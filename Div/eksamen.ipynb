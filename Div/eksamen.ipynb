{
 "cells": [
  {
   "cell_type": "markdown",
   "metadata": {},
   "source": [
    "# Eksamensoppgaver 2020 1T"
   ]
  },
  {
   "cell_type": "code",
   "execution_count": 2,
   "metadata": {},
   "outputs": [],
   "source": [
    "from sympy import *\n",
    "init_printing()"
   ]
  },
  {
   "cell_type": "markdown",
   "metadata": {},
   "source": [
    "### Oppgave 3\n",
    "---"
   ]
  },
  {
   "cell_type": "code",
   "execution_count": 10,
   "metadata": {},
   "outputs": [
    {
     "data": {
      "text/latex": [
       "$\\displaystyle \\left[ 1 - \\sqrt{2}, \\  1 + \\sqrt{2}\\right]$"
      ],
      "text/plain": [
       "[1 - √2, 1 + √2]"
      ]
     },
     "execution_count": 10,
     "metadata": {},
     "output_type": "execute_result"
    }
   ],
   "source": [
    "var('x')\n",
    "pytagoras = Eq(x**2 + x**2, (x + 1)**2)\n",
    "x = solve(pytagoras, x)\n",
    "x"
   ]
  },
  {
   "cell_type": "markdown",
   "metadata": {},
   "source": [
    "Lengdene til sidekantene må være $1 + \\sqrt{2}$"
   ]
  },
  {
   "cell_type": "markdown",
   "metadata": {},
   "source": [
    "### Oppgave 4\n",
    "---"
   ]
  },
  {
   "cell_type": "code",
   "execution_count": 13,
   "metadata": {},
   "outputs": [
    {
     "name": "stdout",
     "output_type": "stream",
     "text": [
      "Nullpunkt:\n",
      "x = -1.42\n",
      "x = 1.41\n"
     ]
    }
   ],
   "source": [
    "from numpy import linspace\n",
    "\n",
    "def f(x):\n",
    "    return x**2 - 2\n",
    "\n",
    "X = linspace(-2, 2, 400);\n",
    "Y = f(X)\n",
    "\n",
    "print(f\"Nullpunkt:\")\n",
    "for i in range(0, 399):\n",
    "    if Y[i]*Y[i + 1] <= 0:\n",
    "        print(f\"x = {X[i]:.2f}\")"
   ]
  },
  {
   "cell_type": "markdown",
   "metadata": {},
   "source": [
    "### Oppgave 5\n",
    "---"
   ]
  },
  {
   "cell_type": "markdown",
   "metadata": {},
   "source": [
    "**a)**\n",
    "Temperaturen økte med $0,26$ $C^o$ i gjennomsnitt fra 04:00 til 14:00"
   ]
  },
  {
   "cell_type": "code",
   "execution_count": 16,
   "metadata": {},
   "outputs": [
    {
     "data": {
      "text/latex": [
       "$\\displaystyle \\left[ 7.3\\right]$"
      ],
      "text/plain": [
       "[7.3]"
      ]
     },
     "execution_count": 16,
     "metadata": {},
     "output_type": "execute_result"
    }
   ],
   "source": [
    "var('k')\n",
    "eq = Eq((k - 4.7)/(14 - 4), 0.26)\n",
    "solve(eq, k)"
   ]
  },
  {
   "cell_type": "markdown",
   "metadata": {},
   "source": [
    "$k = 7.3$ "
   ]
  },
  {
   "cell_type": "markdown",
   "metadata": {},
   "source": [
    "### Oppgave 6\n",
    "---"
   ]
  },
  {
   "cell_type": "code",
   "execution_count": 46,
   "metadata": {},
   "outputs": [
    {
     "data": {
      "text/latex": [
       "$\\displaystyle 3 a x^{2} + 2 b x + c$"
      ],
      "text/plain": [
       "     2            \n",
       "3⋅a⋅x  + 2⋅b⋅x + c"
      ]
     },
     "execution_count": 46,
     "metadata": {},
     "output_type": "execute_result"
    }
   ],
   "source": [
    "var('x, a, b, c, d')\n",
    "f = a*x**3 + b*x**2 + c*x + d\n",
    "df = diff(f, x)  # f'(x)  \n",
    "df"
   ]
  },
  {
   "cell_type": "code",
   "execution_count": 52,
   "metadata": {},
   "outputs": [
    {
     "data": {
      "text/latex": [
       "$\\displaystyle \\left\\{ a : \\frac{4}{3}, \\  b : 0, \\  c : -4\\right\\}$"
      ],
      "text/plain": [
       "{a: 4/3, b: 0, c: -4}"
      ]
     },
     "execution_count": 52,
     "metadata": {},
     "output_type": "execute_result"
    }
   ],
   "source": [
    "eq1 = Eq(df.subs(x, -1), 0)     # f'(-1) = 0\n",
    "eq2 = Eq(df.subs(x, 1), 0)      # f'(1) = 0\n",
    "eq3 = Eq(df.subs(x, 0), -4)     # f'(0) = 4\n",
    "løsninger = solve((eq1, eq2, eq3), (a, b, c)) \n",
    "løsninger"
   ]
  },
  {
   "cell_type": "code",
   "execution_count": 53,
   "metadata": {},
   "outputs": [
    {
     "data": {
      "text/latex": [
       "$\\displaystyle 4 x^{2} - 4$"
      ],
      "text/plain": [
       "   2    \n",
       "4⋅x  - 4"
      ]
     },
     "execution_count": 53,
     "metadata": {},
     "output_type": "execute_result"
    }
   ],
   "source": [
    "df.subs(løsninger)"
   ]
  },
  {
   "cell_type": "markdown",
   "metadata": {},
   "source": [
    "Utrykk for den deriverte: $f'(x) = 4 x^{2} - 4$"
   ]
  },
  {
   "cell_type": "markdown",
   "metadata": {},
   "source": [
    "### Oppgave 8\n",
    "---\n",
    "**b)**"
   ]
  },
  {
   "cell_type": "code",
   "execution_count": 71,
   "metadata": {},
   "outputs": [
    {
     "data": {
      "text/latex": [
       "$\\displaystyle \\left[ 53.130102354156, \\  126.869897645844\\right]$"
      ],
      "text/plain": [
       "[53.130102354156, 126.869897645844]"
      ]
     },
     "execution_count": 71,
     "metadata": {},
     "output_type": "execute_result"
    }
   ],
   "source": [
    "var('x')\n",
    "deg = pi/180\n",
    "eq = Eq(sin(x*deg), 4/5)\n",
    "vinkel = solve(eq, x)\n",
    "vinkel"
   ]
  },
  {
   "cell_type": "code",
   "execution_count": 85,
   "metadata": {},
   "outputs": [
    {
     "data": {
      "text/latex": [
       "$\\displaystyle 14.0$"
      ],
      "text/plain": [
       "14.0000000000000"
      ]
     },
     "execution_count": 85,
     "metadata": {},
     "output_type": "execute_result"
    }
   ],
   "source": [
    "areal = 1/2 * 5 * 7 * sin(vinkel[0]*deg)\n",
    "areal.evalf()"
   ]
  },
  {
   "cell_type": "markdown",
   "metadata": {},
   "source": [
    "### Oppgave 9\n",
    "---"
   ]
  },
  {
   "cell_type": "markdown",
   "metadata": {},
   "source": [
    "**a)**\n",
    "\n",
    "1. Sett inn kvadrater med sidelengder på den korteste siden til rektangelet.\n",
    "2. Sett det resterende området til nytt rektangel.\n",
    "3. Gjenta 1 og 2 til det ikke er noen rest. \n"
   ]
  },
  {
   "cell_type": "markdown",
   "metadata": {},
   "source": [
    "**b)**"
   ]
  },
  {
   "cell_type": "code",
   "execution_count": 88,
   "metadata": {},
   "outputs": [
    {
     "name": "stdin",
     "output_type": "stream",
     "text": [
      "Skriv inn lengden:  986\n",
      "Skriv inn bredden:  16\n"
     ]
    },
    {
     "name": "stdout",
     "output_type": "stream",
     "text": [
      "Sidekantene kan maksimalt være 2\n"
     ]
    }
   ],
   "source": [
    "lengde = int(input('Skriv inn lengden: '))\n",
    "bredde = int(input('Skriv inn bredden: '))\n",
    "\n",
    "rest = lengde%bredde\n",
    "kortside = bredde\n",
    "\n",
    "while rest > 0:\n",
    "    langside = kortside\n",
    "    kortside = rest\n",
    "    rest = langside%kortside\n",
    "\n",
    "print(f'Sidekantene kan maksimalt være {kortside}')"
   ]
  },
  {
   "cell_type": "markdown",
   "metadata": {},
   "source": [
    "### Oppgave 10\n",
    "---"
   ]
  },
  {
   "cell_type": "code",
   "execution_count": 91,
   "metadata": {},
   "outputs": [
    {
     "data": {
      "text/latex": [
       "$\\displaystyle \\frac{a \\left(b + x\\right) \\left(x - 1\\right)}{x^{2} - 1}$"
      ],
      "text/plain": [
       "a⋅(b + x)⋅(x - 1)\n",
       "─────────────────\n",
       "       2         \n",
       "      x  - 1     "
      ]
     },
     "execution_count": 91,
     "metadata": {},
     "output_type": "execute_result"
    }
   ],
   "source": [
    "var('a b x')\n",
    "f = (a*(x - 1)*(x + b))/(x**2 - 1)\n",
    "f"
   ]
  },
  {
   "cell_type": "markdown",
   "metadata": {},
   "source": [
    "1. Vi bestemmer nullpunktet og ser at det er $-b$"
   ]
  },
  {
   "cell_type": "code",
   "execution_count": 103,
   "metadata": {},
   "outputs": [
    {
     "data": {
      "text/latex": [
       "$\\displaystyle \\left[ - b\\right]$"
      ],
      "text/plain": [
       "[-b]"
      ]
     },
     "execution_count": 103,
     "metadata": {},
     "output_type": "execute_result"
    }
   ],
   "source": [
    "solve(f, x)"
   ]
  },
  {
   "cell_type": "markdown",
   "metadata": {},
   "source": [
    "2. Undersøker nevneren for å avgjøre gyldighetsområdet til $ f $ "
   ]
  },
  {
   "cell_type": "code",
   "execution_count": 106,
   "metadata": {},
   "outputs": [
    {
     "data": {
      "text/latex": [
       "$\\displaystyle \\left[ -1, \\  1\\right]$"
      ],
      "text/plain": [
       "[-1, 1]"
      ]
     },
     "execution_count": 106,
     "metadata": {},
     "output_type": "execute_result"
    }
   ],
   "source": [
    "nevner = denom(f)\n",
    "bruddpunkt = solve(nevner, x)\n",
    "bruddpunkt"
   ]
  },
  {
   "cell_type": "code",
   "execution_count": 107,
   "metadata": {},
   "outputs": [
    {
     "data": {
      "text/latex": [
       "$\\displaystyle \\left(-\\infty, -1\\right) \\cup \\left(-1, 1\\right) \\cup \\left(1, \\infty\\right)$"
      ],
      "text/plain": [
       "(-∞, -1) ∪ (-1, 1) ∪ (1, ∞)"
      ]
     },
     "execution_count": 107,
     "metadata": {},
     "output_type": "execute_result"
    }
   ],
   "source": [
    "defeninsjonsmengde = Interval(-oo, oo) - FiniteSet.fromiter(bruddpunkt)\n",
    "defeninsjonsmengde"
   ]
  },
  {
   "cell_type": "code",
   "execution_count": 120,
   "metadata": {},
   "outputs": [
    {
     "data": {
      "text/latex": [
       "$\\displaystyle \\left(-\\infty, -1\\right) \\cup \\left(-1, 1\\right) \\cup \\left(1, \\infty\\right)$"
      ],
      "text/plain": [
       "(-∞, -1) ∪ (-1, 1) ∪ (1, ∞)"
      ]
     },
     "execution_count": 120,
     "metadata": {},
     "output_type": "execute_result"
    }
   ],
   "source": [
    "## Alternativ til det det over\n",
    "\n",
    "from sympy.calculus.util import continuous_domain\n",
    "continuous_domain(f, x, S.Reals)"
   ]
  },
  {
   "cell_type": "markdown",
   "metadata": {},
   "source": [
    "Forkoter vi utrykket utrykket, får vi:"
   ]
  },
  {
   "cell_type": "code",
   "execution_count": 108,
   "metadata": {},
   "outputs": [
    {
     "data": {
      "text/latex": [
       "$\\displaystyle \\frac{a \\left(b + x\\right)}{x + 1}$"
      ],
      "text/plain": [
       "a⋅(b + x)\n",
       "─────────\n",
       "  x + 1  "
      ]
     },
     "execution_count": 108,
     "metadata": {},
     "output_type": "execute_result"
    }
   ],
   "source": [
    "simplify(f)"
   ]
  },
  {
   "cell_type": "markdown",
   "metadata": {},
   "source": [
    "Og vi ser vi har en vertikal asymptote for $x=-1$"
   ]
  },
  {
   "cell_type": "markdown",
   "metadata": {},
   "source": [
    "3. Ser etter ekstremalpunkt, men finner ingen."
   ]
  },
  {
   "cell_type": "code",
   "execution_count": 121,
   "metadata": {},
   "outputs": [
    {
     "data": {
      "text/latex": [
       "$\\displaystyle \\left[ \\right]$"
      ],
      "text/plain": [
       "[]"
      ]
     },
     "execution_count": 121,
     "metadata": {},
     "output_type": "execute_result"
    }
   ],
   "source": [
    "derivert = simplify(diff(f, x))\n",
    "ekstremalpunkt = solve(derivert, x)\n",
    "ekstremalpunkt"
   ]
  },
  {
   "cell_type": "code",
   "execution_count": null,
   "metadata": {},
   "outputs": [],
   "source": []
  }
 ],
 "metadata": {
  "kernelspec": {
   "display_name": "Python 3.7.9 64-bit",
   "language": "python",
   "name": "python37964bitac9d7307ad3e4c868b040b3c33198f9b"
  },
  "language_info": {
   "codemirror_mode": {
    "name": "ipython",
    "version": 3
   },
   "file_extension": ".py",
   "mimetype": "text/x-python",
   "name": "python",
   "nbconvert_exporter": "python",
   "pygments_lexer": "ipython3",
   "version": "3.7.9"
  }
 },
 "nbformat": 4,
 "nbformat_minor": 4
}
