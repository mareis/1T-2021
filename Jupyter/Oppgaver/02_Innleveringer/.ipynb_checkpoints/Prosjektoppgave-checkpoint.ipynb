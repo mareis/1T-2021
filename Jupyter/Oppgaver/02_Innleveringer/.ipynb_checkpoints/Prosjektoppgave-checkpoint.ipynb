{
 "cells": [
  {
   "cell_type": "markdown",
   "metadata": {},
   "source": [
    "# Prosjektoppgave i modellering"
   ]
  },
  {
   "cell_type": "markdown",
   "metadata": {},
   "source": [
    "## Krav til innlevering\n",
    "\n",
    "- Besvarelsen skal leveres i en zip-et mappe med notebook-fil, animasjons-fil, video-fil av animasjon og forsøk.\n",
    "\n",
    "\n",
    "- Besvarelsen skal inneholde navn.\n",
    "\n",
    "\n",
    "- Husk at andre skal lese og forstå din besvarelse! Besvarelsene bør derfor føres på en oversiktlig måte i den rekkefølgen de står oppgitt.\n",
    "\n",
    "\n",
    "- Alle plott og figurer som er med på å besvare oppgaven må inkluderes (husk også riktige akser og enheter). Du bør også skrive kort hva hver figur viser, for eksempel: Figur 2: Plott av funksjonen $f(x)=x^2-3$.\n",
    "\n",
    "\n",
    "- Besvarelsen bør inneholde diskusjon om resultatene dere kommer fram til. Ek- sempler på spørsmål man kan stille seg for å vite hva man skal kommentere er:\n",
    "\n",
    "    *Gir dette plottet noen mening? Ser virkelig grafen til $f(x)$ slik ut? Var dette resultatet som forventet? Kan vi stole på denne modellen? Er den gyldig? Kan dette skyldes numeriske feil?*"
   ]
  },
  {
   "cell_type": "markdown",
   "metadata": {},
   "source": [
    "$$\\LaTeX$$\n",
    "\n",
    "Jeg oppmuntrer til bruk av $\\LaTeX$ når du skriver variabler, konstanter, likninger og formler i dokumentet. Bruk også figurer og tegninger for å ilustrere og forklare.\n",
    "    \n"
   ]
  },
  {
   "cell_type": "markdown",
   "metadata": {},
   "source": [
    "## Oppgave\n",
    "\n",
    "Der skal i denne oppgaven bestemme dere for en praktisk situasjon skal lage en modell for."
   ]
  },
  {
   "cell_type": "markdown",
   "metadata": {},
   "source": [
    "### Tittel\n",
    "Tittelen være beskrivende for hva du har gjort.\n",
    "\n",
    "### 1 Innledning\n",
    "En introduksjon til oppgaven. Forklar kort hva du har tenkt å gjøre og hvordan.\n",
    "\n",
    "### 2 Teori\n",
    "Teori, forklaring og utleding av av differensialligningene du benytter. Denne delen av oppgaven er det veldig viktig at alle på gruppen kan godt, forstår og kan forklare. \n",
    "\n",
    "### 3 Eulers metode\n",
    "Programkode som løser diffligningen ved hjelp av Eulers metode. Husk kommentarer som gjør koden lett å forstå.\n",
    "\n",
    "### 4 Plot\n",
    "Beskriv hva plotet viser\n",
    "\n",
    "### 5 Praktisk eksperiment\n",
    "Praktisk eksperiment med forklaring og tilhørende video. Bruk også datalogger hvis det er hensiktsmessig og lar seg gjøre. Det gjør det lettere å bestemme gyldigheten til modellen som skal drøftes i del 7.\n",
    "\n",
    "### 6 Animasjon\n",
    "Video som viser den animerte utgaven av diffligningen\n",
    "\n",
    "### 7 Konklusjon og drøfting\n",
    "Diskuter gyldigheten til modellen din. Husk å ta utganspunkt i innledning din. Det skal være mulig å kun lese introduksjon og konklusjon for å få et bilde av hva rapporten handler om og hva resultatet ble."
   ]
  },
  {
   "cell_type": "code",
   "execution_count": null,
   "metadata": {},
   "outputs": [],
   "source": []
  }
 ],
 "metadata": {
  "kernelspec": {
   "display_name": "Python 3",
   "language": "python",
   "name": "python3"
  },
  "language_info": {
   "codemirror_mode": {
    "name": "ipython",
    "version": 3
   },
   "file_extension": ".py",
   "mimetype": "text/x-python",
   "name": "python",
   "nbconvert_exporter": "python",
   "pygments_lexer": "ipython3",
   "version": "3.7.4"
  }
 },
 "nbformat": 4,
 "nbformat_minor": 4
}
