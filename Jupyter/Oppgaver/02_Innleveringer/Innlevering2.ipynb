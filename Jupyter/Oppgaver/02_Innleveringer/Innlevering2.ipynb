{
 "cells": [
  {
   "cell_type": "markdown",
   "metadata": {},
   "source": [
    "# Innlevering 2"
   ]
  },
  {
   "cell_type": "markdown",
   "metadata": {},
   "source": [
    "Utforske og sammenligne algoritmene for numerisk, derivasjon og intigrasjon og nullpunkt.\n",
    "\n",
    "---"
   ]
  },
  {
   "cell_type": "markdown",
   "metadata": {},
   "source": [
    "### Oppgave 1\n",
    "    i)    Utled og forklar Newtons metode.\n",
    "    ii)   Gjør oppgave 9.9 fra bok\n",
    "    iii)  Sammenlign resultatet i a)når du brukte Newtons metode med Halveringsmetoden for ulike steglengder.\n",
    "    iiii) Plot feilen svarene fra de numeriske metodene gir ved ulik steglengde. \n",
    "    \n",
    "___"
   ]
  },
  {
   "cell_type": "markdown",
   "metadata": {},
   "source": [
    "### Oppgave 2\n",
    "    i)  7.11 fra boka\n",
    "    ii) 7.19 fra boka\n",
    "    \n",
    "___"
   ]
  },
  {
   "cell_type": "markdown",
   "metadata": {},
   "source": [
    "### Oppgave 3\n",
    "\n",
    "Ved hjelp av en GPS har vi målt farten v til et objekt som beveger seg. Målingene er gjort ved $N + 1$ tidspunkter. Der vi angir farten ved tidspunktet $t_i$.\n",
    "\n",
    "a) Plot farten med hensyn på tiden\n",
    "\n",
    "b) Lag et array med akselerasjonen og plot resultatet\n",
    "\n",
    "Kan vente med til diff\n",
    "\n",
    "c) Gi en algoritme for å beregne en tilnærming til objektets avstand $s(t)$ fra startpunktet ut fra de beregnede verdiene når $v(t) = s′(t)$ og $s(t_0) = 0$.\n",
    "\n",
    "<a href='https://www.uio.no/studier/emner/matnat/math/MAT-INF1100/h18/obliger/running.txt'>Datafil</a>\n",
    "___"
   ]
  },
  {
   "cell_type": "markdown",
   "metadata": {},
   "source": [
    "Lese inn fila"
   ]
  },
  {
   "cell_type": "code",
   "execution_count": null,
   "metadata": {},
   "outputs": [],
   "source": [
    "import pandas as pd\n",
    "\n",
    "url ='https://www.uio.no/studier/emner/matnat/math/MAT-INF1100/h18/obliger/running.txt'\n",
    "df = pd.read_csv(url, sep=',', header=None)\n",
    "df.columns = ['tid', 'fart']\n",
    "df"
   ]
  },
  {
   "cell_type": "markdown",
   "metadata": {},
   "source": [
    "### Oppgave 4\n",
    "Utled og forklar Eulers metode. \n",
    "\n",
    "___"
   ]
  },
  {
   "cell_type": "markdown",
   "metadata": {},
   "source": [
    "### Oppgave 5\n",
    "Løs diffligningene numerisk og plot $y(t),\\; t\\in[0,5]$:\n",
    "\n",
    "    i)\n",
    "$$y^{\\prime}(t)=t+y(t),\\; y(0)=1.$$\n",
    "\n",
    "    ii)\n",
    "$$y^{\\prime}(t) + y(t)^2=􏰁 1,\\; y(0)=0$$\n",
    "\n",
    "    iii)\n",
    "    \n",
    "$$y^{\\prime}(t) = \\frac{t}{1+y(t)^2},\\; y(0)=1.$$\n",
    "\n",
    "___\n"
   ]
  },
  {
   "cell_type": "code",
   "execution_count": null,
   "metadata": {},
   "outputs": [],
   "source": []
  }
 ],
 "metadata": {
  "kernelspec": {
   "display_name": "Python 3",
   "language": "python",
   "name": "python3"
  },
  "language_info": {
   "codemirror_mode": {
    "name": "ipython",
    "version": 3
   },
   "file_extension": ".py",
   "mimetype": "text/x-python",
   "name": "python",
   "nbconvert_exporter": "python",
   "pygments_lexer": "ipython3",
   "version": "3.7.4"
  }
 },
 "nbformat": 4,
 "nbformat_minor": 4
}
