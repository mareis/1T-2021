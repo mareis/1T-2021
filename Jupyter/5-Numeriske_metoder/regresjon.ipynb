{
 "metadata": {
  "language_info": {
   "codemirror_mode": {
    "name": "ipython",
    "version": 3
   },
   "file_extension": ".py",
   "mimetype": "text/x-python",
   "name": "python",
   "nbconvert_exporter": "python",
   "pygments_lexer": "ipython3",
   "version": "3.8.2-final"
  },
  "orig_nbformat": 2,
  "kernelspec": {
   "name": "python3",
   "display_name": "Python 3.8.2 64-bit",
   "metadata": {
    "interpreter": {
     "hash": "31f2aee4e71d21fbe5cf8b01ff0e069b9275f58929596ceb00d14d90e3e16cd6"
    }
   }
  }
 },
 "nbformat": 4,
 "nbformat_minor": 2,
 "cells": [
  {
   "cell_type": "code",
   "execution_count": 17,
   "metadata": {},
   "outputs": [
    {
     "output_type": "stream",
     "name": "stdout",
     "text": [
      "1 1\n5 2\n8 4\n11 5\ny = 0.420091x + 0.374429\n"
     ]
    }
   ],
   "source": [
    "punkter = [(1, 1), (5, 2), (8, 4), (11, 5)]\n",
    "\n",
    "\n",
    "def x_snitt(punkter):\n",
    "    sum = 0\n",
    "    for punkt in punkter:\n",
    "        sum += punkt[0]\n",
    "\n",
    "    return sum/len(punkter)\n",
    "\n",
    "def y_snitt(punkter):\n",
    "    sum = 0\n",
    "    for punkt in punkter:\n",
    "        sum += punkt[1]\n",
    "\n",
    "    return sum/len(punkter)\n",
    "\n",
    "\n",
    "def a_teller(punkter):\n",
    "    y_ = y_snitt(punkter)\n",
    "    x_ = x_snitt(punkter)\n",
    "    sum = 0\n",
    "    for punkt in punkter:\n",
    "        x_i = punkt[0]\n",
    "        y_i = punkt[1]\n",
    "        sum += (x_i - x_)*(y_i - y_)\n",
    "\n",
    "    return sum\n",
    "\n",
    "def a_nevner(punkter):\n",
    "    x_ = x_snitt(punkter)\n",
    "    sum = 0\n",
    "    for punkt in punkter:\n",
    "        x_i = punkt[0]\n",
    "        sum += (x_i - x_)**2\n",
    "\n",
    "    return sum\n",
    "\n",
    "\n",
    "a = a_teller(punkter)/a_nevner(punkter)\n",
    "b = y_snitt(punkter) - a*x_snitt(punkter)\n",
    "\n",
    "print(f'y = {a:.6f}x + {b:.6f}')"
   ]
  },
  {
   "cell_type": "code",
   "execution_count": 18,
   "metadata": {},
   "outputs": [
    {
     "output_type": "stream",
     "name": "stdout",
     "text": [
      "y = 0.420091x + 0.374429\n"
     ]
    }
   ],
   "source": [
    "import numpy as np\n",
    "\n",
    "x = np.array([1, 5, 8, 11])\n",
    "y = np.array([1, 2, 4, 5])\n",
    "\n",
    "a = np.sum((x - np.mean(x))*(y - np.mean(y)))/np.sum((x - np.mean(x))**2)\n",
    "\n",
    "b = np.mean(y) - a*np.mean(x)\n",
    "\n",
    "print(f'y = {a:.6f}x + {b:.6f}')"
   ]
  },
  {
   "cell_type": "code",
   "execution_count": null,
   "metadata": {},
   "outputs": [],
   "source": []
  }
 ]
}