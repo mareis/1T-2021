{
 "cells": [
  {
   "cell_type": "markdown",
   "metadata": {
    "pycharm": {}
   },
   "source": [
    "# Løkker\n",
    "\n",
    "\n",
    "**I programmering har vi ofte behov for å gjenta kode mange ganger. For å få til dette bruker man løkker. Løkker har mye til felles med tester, men med den forskjellen at i en løkke gjentas kode intill en betingelse er sann eller usann.**\n",
    "\n",
    "Det finnes to hovedtyper løkker - for-løkker og while-løkker:\n",
    "\n",
    "+ **for** - Gjentar kode et gitt antall ganger\n",
    "+ **while** - Gjentar kode sålenge en betingelse er sann\n",
    "\n",
    "## For-løkker\n",
    "\n",
    "I en for-løkke bestemmer vi hvor mange ganger en kode skal gjentas. Alt dette gjøres i deklarasjonen av løkka. Legg spesielt merke til kommandoen [_range()_](https://docs.python.org/3/library/stdtypes.html#range).\n",
    "\n",
    "### Eksempel 1"
   ]
  },
  {
   "cell_type": "code",
   "execution_count": 5,
   "metadata": {
    "pycharm": {
     "is_executing": false
    }
   },
   "outputs": [
    {
     "name": "stdout",
     "output_type": "stream",
     "text": [
      "Tellevariabelen tall har nå verdien 0\n",
      "Tellevariabelen tall har nå verdien 1\n",
      "Tellevariabelen tall har nå verdien 2\n",
      "Tellevariabelen tall har nå verdien 3\n",
      "Tellevariabelen tall har nå verdien 4\n",
      "Tellevariabelen tall har nå verdien 5\n",
      "Tellevariabelen tall har nå verdien 6\n",
      "Tellevariabelen tall har nå verdien 7\n",
      "Tellevariabelen tall har nå verdien 8\n",
      "Tellevariabelen tall har nå verdien 9\n"
     ]
    }
   ],
   "source": [
    "for tall in range(10):\n",
    "    print(\"Tellevariabelen tall har nå verdien\", tall)"
   ]
  },
  {
   "cell_type": "code",
   "execution_count": 11,
   "metadata": {},
   "outputs": [
    {
     "name": "stdout",
     "output_type": "stream",
     "text": [
      "Det var ikke C i navnet\n"
     ]
    }
   ],
   "source": [
    "navn = 'ADA LOVELASE'\n",
    "len(navn)\n",
    "funnet = False\n",
    "for bokstav in navn:\n",
    "    if bokstav == 'C':\n",
    "        print(bokstav)\n",
    "        funnet = True\n",
    "\n",
    "if not(funnet):\n",
    "    print('Det var ikke C i navnet');"
   ]
  },
  {
   "cell_type": "markdown",
   "metadata": {
    "pycharm": {}
   },
   "source": [
    "### Underveisoppgave\n",
    "Lag en løkke som skriver ut navnet ditt 5 ganger"
   ]
  },
  {
   "cell_type": "code",
   "execution_count": 5,
   "metadata": {
    "pycharm": {
     "is_executing": false
    }
   },
   "outputs": [],
   "source": [
    "# koden din her\n"
   ]
  },
  {
   "cell_type": "markdown",
   "metadata": {
    "pycharm": {}
   },
   "source": [
    "## for in\n",
    "\n",
    "En annen variant av for-løkker er _for in_. Denne er veldig nyttig når man skal traversere alle elementene i en [liste](https://developers.google.com/edu/python/lists) eller andre kolleksjoner av variabler.\n",
    "\n",
    "### Eksempel 2"
   ]
  },
  {
   "cell_type": "code",
   "execution_count": 6,
   "metadata": {
    "pycharm": {
     "is_executing": false
    }
   },
   "outputs": [
    {
     "name": "stdout",
     "output_type": "stream",
     "text": [
      "Nå skriver vi ut: H\n",
      "Nå skriver vi ut: a\n",
      "Nå skriver vi ut: l\n",
      "Nå skriver vi ut: l\n",
      "Nå skriver vi ut: o\n",
      "Nå skriver vi ut:  \n",
      "Nå skriver vi ut: v\n",
      "Nå skriver vi ut: e\n",
      "Nå skriver vi ut: r\n",
      "Nå skriver vi ut: d\n",
      "Nå skriver vi ut: e\n",
      "Nå skriver vi ut: n\n",
      "Nå skriver vi ut: !\n"
     ]
    }
   ],
   "source": [
    "tekst = 'Hallo verden!'\n",
    "for tegn in tekst:\n",
    "    print(f'Nå skriver vi ut: {tegn}')"
   ]
  },
  {
   "cell_type": "markdown",
   "metadata": {
    "pycharm": {}
   },
   "source": [
    "### Eksempel 3"
   ]
  },
  {
   "cell_type": "code",
   "execution_count": 13,
   "metadata": {
    "pycharm": {
     "is_executing": false
    }
   },
   "outputs": [
    {
     "name": "stdout",
     "output_type": "stream",
     "text": [
      "1\n",
      "3\n",
      "5\n",
      "7\n",
      "9\n"
     ]
    }
   ],
   "source": [
    "#range(fra, til, steglengde)\n",
    "for i in range(1, 10, 2):\n",
    "    print(i)"
   ]
  },
  {
   "cell_type": "markdown",
   "metadata": {
    "pycharm": {}
   },
   "source": [
    "### Underveisoppgaver\n",
    "1. Lag en for-løkke som teller fra 0 til 20."
   ]
  },
  {
   "cell_type": "code",
   "execution_count": 7,
   "metadata": {
    "pycharm": {
     "is_executing": false
    }
   },
   "outputs": [],
   "source": []
  },
  {
   "cell_type": "markdown",
   "metadata": {
    "pycharm": {}
   },
   "source": [
    "2. Lag en for-løkke som teller fra 10 til 1."
   ]
  },
  {
   "cell_type": "code",
   "execution_count": null,
   "metadata": {
    "pycharm": {}
   },
   "outputs": [],
   "source": []
  },
  {
   "cell_type": "markdown",
   "metadata": {
    "pycharm": {}
   },
   "source": [
    "3. Lag en for-løkke som teller annenhvert tall fra 10 til 50."
   ]
  },
  {
   "cell_type": "code",
   "execution_count": null,
   "metadata": {
    "pycharm": {}
   },
   "outputs": [],
   "source": []
  },
  {
   "cell_type": "markdown",
   "metadata": {},
   "source": [
    " 4. Lag en funksjon som returnerer en en kvadrat av * med sidelengde som det samme som argumentet du gir funksjonen.\n",
    " \n",
    " \n"
   ]
  },
  {
   "cell_type": "code",
   "execution_count": 15,
   "metadata": {},
   "outputs": [],
   "source": [
    "# lag_kvadrat(3) skal returnere\n",
    "# * * * \n",
    "# * * *\n",
    "# * * *\n"
   ]
  },
  {
   "cell_type": "markdown",
   "metadata": {},
   "source": [
    " 5. Lag en funksjon som skriver ut en pyramide med høyde lik som argumentet du gir funksjonen."
   ]
  },
  {
   "cell_type": "code",
   "execution_count": 16,
   "metadata": {},
   "outputs": [],
   "source": [
    "# lag_pyramide(3) skal returnere\n",
    "#   *  \n",
    "#  * * \n",
    "# * * *"
   ]
  },
  {
   "cell_type": "code",
   "execution_count": null,
   "metadata": {},
   "outputs": [],
   "source": []
  },
  {
   "cell_type": "markdown",
   "metadata": {
    "pycharm": {}
   },
   "source": [
    "### Eksempel 4\n",
    "\n",
    "$$\\sum_{n=1}^5 (5n - 4)$$\n",
    "\n",
    "Lag en for-løkke som løser summen over."
   ]
  },
  {
   "cell_type": "code",
   "execution_count": 8,
   "metadata": {
    "pycharm": {
     "is_executing": false
    }
   },
   "outputs": [
    {
     "name": "stdout",
     "output_type": "stream",
     "text": [
      "Summen er 55\n"
     ]
    }
   ],
   "source": [
    "N = 5\n",
    "sum = 0\n",
    "for n in range(1,N+1):\n",
    "    sum += 5*n - 4\n",
    "    #print(sum)\n",
    "    \n",
    "print(f'Summen er {sum}')"
   ]
  },
  {
   "cell_type": "markdown",
   "metadata": {
    "pycharm": {}
   },
   "source": [
    "### Underveisoppgaver\n",
    "\n",
    "1. \n",
    "\n",
    "$$\\sum_{x=3}^6 (x^2 - 2^x)$$\n",
    "\n",
    "Lag en for-løkke som løser summen over. Du kan lese om notasjonen på her [https://no.wikipedia.org/wiki/Sum]"
   ]
  },
  {
   "cell_type": "code",
   "execution_count": 7,
   "metadata": {
    "pycharm": {}
   },
   "outputs": [],
   "source": [
    "# koden din her"
   ]
  },
  {
   "cell_type": "markdown",
   "metadata": {
    "pycharm": {}
   },
   "source": [
    "2. \n",
    "$$1+\\frac23+\\frac49+\\frac{8}{27}+...$$\n",
    "\n",
    "Bestem en tilnærming til den geometriske reken over ved hjelp av en løkke"
   ]
  },
  {
   "cell_type": "code",
   "execution_count": 11,
   "metadata": {
    "pycharm": {}
   },
   "outputs": [
    {
     "output_type": "stream",
     "name": "stdout",
     "text": [
      "2.5000000\n"
     ]
    }
   ],
   "source": [
    "# koden din her\n"
   ]
  },
  {
   "cell_type": "markdown",
   "metadata": {
    "pycharm": {}
   },
   "source": [
    "## Nestede løkker"
   ]
  },
  {
   "cell_type": "code",
   "execution_count": 21,
   "metadata": {
    "pycharm": {}
   },
   "outputs": [
    {
     "name": "stdout",
     "output_type": "stream",
     "text": [
      "ytre løkke\n",
      "  indre løkke\n",
      "  indre løkke\n",
      "  indre løkke\n",
      "ytre løkke\n",
      "  indre løkke\n",
      "  indre løkke\n",
      "  indre løkke\n",
      "ytre løkke\n",
      "  indre løkke\n",
      "  indre løkke\n",
      "  indre løkke\n",
      "ytre løkke\n",
      "  indre løkke\n",
      "  indre løkke\n",
      "  indre løkke\n",
      "ytre løkke\n",
      "  indre løkke\n",
      "  indre løkke\n",
      "  indre løkke\n"
     ]
    }
   ],
   "source": [
    "for i in range(5):\n",
    "    print('ytre løkke')\n",
    "    for j in range(3):\n",
    "        print('  indre løkke')"
   ]
  },
  {
   "cell_type": "markdown",
   "metadata": {
    "pycharm": {}
   },
   "source": [
    "## While-løkker\n",
    "\n",
    "\n",
    "En [while-løkke](https://en.wikipedia.org/wiki/While_loop#Python) har veldig lik funksjonalitet som for-løkker. Forskjellen er at i en while-løkke så må tellevariabelen deklarereres på forhånd, og den må økes eller minkes manuelt inne i koden. Alt dette gjøres i deklarasjonen til en for-løkke.\n"
   ]
  },
  {
   "cell_type": "code",
   "execution_count": 13,
   "metadata": {
    "pycharm": {}
   },
   "outputs": [
    {
     "output_type": "stream",
     "name": "stdout",
     "text": [
      "Telleren har nå verdien: 0\nTelleren har nå verdien: 1\nTelleren har nå verdien: 2\nTelleren har nå verdien: 3\nTelleren har nå verdien: 4\nTelleren har nå verdien: 5\nTelleren har nå verdien: 6\nTelleren har nå verdien: 7\nTelleren har nå verdien: 8\nwhile-løkken er nå avsluttet\n"
     ]
    }
   ],
   "source": [
    "teller = 0\n",
    "while teller < 9:\n",
    "   print(f'Telleren har nå verdien: {teller}')\n",
    "   teller = teller + 1\n",
    "\n",
    "print(\"while-løkken er nå avsluttet\")"
   ]
  },
  {
   "cell_type": "code",
   "execution_count": null,
   "metadata": {
    "collapsed": true,
    "jupyter": {
     "outputs_hidden": true
    },
    "pycharm": {}
   },
   "outputs": [],
   "source": []
  }
 ],
 "metadata": {
  "kernelspec": {
   "name": "Python 3.8.3 64-bit ('base': conda)",
   "display_name": "Python 3.8.3 64-bit ('base': conda)",
   "metadata": {
    "interpreter": {
     "hash": "cdc88a7a5bb02b8b406c54a5cb14ab42a574aacaff9fd68c3c0a62f25efabebc"
    }
   }
  },
  "language_info": {
   "codemirror_mode": {
    "name": "ipython",
    "version": 3
   },
   "file_extension": ".py",
   "mimetype": "text/x-python",
   "name": "python",
   "nbconvert_exporter": "python",
   "pygments_lexer": "ipython3",
   "version": "3.8.3-final"
  }
 },
 "nbformat": 4,
 "nbformat_minor": 4
}