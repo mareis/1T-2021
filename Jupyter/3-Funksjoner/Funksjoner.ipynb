{
 "cells": [
  {
   "cell_type": "markdown",
   "metadata": {},
   "source": [
    "# Funksjoner\n",
    "---\n",
    "\n",
    "En funksjon er en gruppe kodelinjer som utfører en spesifikk oppgave. Det er fordeler med funksjoner;\n",
    "\n",
    " - de deler opp et større program i mindre deler. Dette gjør det lettere å forstå koden og det gir enklere testing\n",
    " - gjenbruk av kode. Hvis man skal bruke samme kode flere steder i et program kan man kalle opp funksjonen, programmet blir kortere og man får skrevet det raskere. Man kan også legge funksjonen globalt, slik at flere programmer kan kalle opp samme funksjon. \n",
    " \n",
    "I Python finnes det noen ferdige funksjoner, som f.eks. print. Dette ligger i standardbiblioteket, men det finnes også andre funksjoner man kan hente. De ligger i det eksterne biblioteket. "
   ]
  },
  {
   "cell_type": "markdown",
   "metadata": {},
   "source": [
    "---\n",
    "### Vi kan også lage våre egne funksjoner\n",
    "\n",
    "```Python\n",
    "def funksjonsnavn(<parameter>):\n",
    "    <kode som skal kjøres>\n",
    "    return <det som skal returneres>\n",
    "```\n",
    "\n",
    "Den første linja kalles funksjonshode. Ordet def er et reservert ord som sier at dette er starten på en funksjon. Det gir navnet på funksjonen, samt eventuelle parametere (i parentesen) og linja skal avsluttes med kolon (:). Resten av koden kalles en kodeblokk. Vær oppmerksom på at den må skrives med innrykk - ellers blir den ikke oppfattet som en del av funksjonen. \n",
    "\n",
    "\n",
    "\n",
    "---\n",
    "### Eksempel 1\n",
    "\n",
    "$$g(x)=2x^2+3x+1$$"
   ]
  },
  {
   "cell_type": "code",
   "execution_count": 20,
   "metadata": {},
   "outputs": [
    {
     "output_type": "execute_result",
     "data": {
      "text/plain": [
       "15"
      ]
     },
     "metadata": {},
     "execution_count": 20
    }
   ],
   "source": [
    "def g(x):\n",
    "    return 2*x**2 + 3*x + 1\n",
    "\n",
    "g(2)"
   ]
  },
  {
   "cell_type": "code",
   "execution_count": 21,
   "metadata": {},
   "outputs": [
    {
     "output_type": "stream",
     "name": "stdout",
     "text": [
      "1\n"
     ]
    }
   ],
   "source": [
    "print(g(0))"
   ]
  },
  {
   "cell_type": "code",
   "execution_count": 26,
   "metadata": {},
   "outputs": [
    {
     "output_type": "stream",
     "name": "stdout",
     "text": [
      "f(3) = 0\n"
     ]
    }
   ],
   "source": [
    "print(f'f(3) = {g(3)}')"
   ]
  },
  {
   "cell_type": "markdown",
   "metadata": {},
   "source": [
    "### Eksempel 2\n",
    "\n",
    "$$f(x)=x^2+4x+4$$\n",
    "\n",
    "Vi bygger funksjonen med kommandoen **def**"
   ]
  },
  {
   "cell_type": "code",
   "execution_count": 7,
   "metadata": {},
   "outputs": [],
   "source": [
    "def f(x):\n",
    "    return x**2 + 4*x + 4"
   ]
  },
  {
   "cell_type": "markdown",
   "metadata": {},
   "source": [
    "**Vi kan benytte oss av koden i funksjonen ved å kalle på den met et argument:**"
   ]
  },
  {
   "cell_type": "code",
   "execution_count": 8,
   "metadata": {},
   "outputs": [
    {
     "output_type": "execute_result",
     "data": {
      "text/plain": [
       "16"
      ]
     },
     "metadata": {},
     "execution_count": 8
    }
   ],
   "source": [
    "f(2)"
   ]
  },
  {
   "cell_type": "markdown",
   "metadata": {},
   "source": [
    "**Lager vi en funksjon med parametere må vi altid gi et argument når vi kaller på den.**\n",
    "\n",
    "Her er **3** argumentet."
   ]
  },
  {
   "cell_type": "code",
   "execution_count": 10,
   "metadata": {},
   "outputs": [
    {
     "output_type": "execute_result",
     "data": {
      "text/plain": [
       "25"
      ]
     },
     "metadata": {},
     "execution_count": 10
    }
   ],
   "source": [
    "f(3)"
   ]
  },
  {
   "cell_type": "markdown",
   "metadata": {},
   "source": [
    "Funksjonen returnerte verdien 25. Argumentet vi gir vil tilordnes til parameteren i funksjonen."
   ]
  },
  {
   "cell_type": "markdown",
   "metadata": {},
   "source": [
    "### Eksempel 3\n",
    "**En funksjon returnerer altid en verdi.** Selv om vi ikke bruker kommandoen return."
   ]
  },
  {
   "cell_type": "code",
   "execution_count": 13,
   "metadata": {},
   "outputs": [
    {
     "output_type": "stream",
     "name": "stdout",
     "text": [
      "Hei fra en funksjon!\nNone\n"
     ]
    }
   ],
   "source": [
    "def skriv_ut():\n",
    "    print('Hei fra en funksjon!')\n",
    "\n",
    "a = skriv_ut()\n",
    "print(a)"
   ]
  },
  {
   "cell_type": "markdown",
   "metadata": {},
   "source": [
    "Den verdien er **None**"
   ]
  },
  {
   "cell_type": "code",
   "execution_count": 14,
   "metadata": {},
   "outputs": [
    {
     "output_type": "execute_result",
     "data": {
      "text/plain": [
       "NoneType"
      ]
     },
     "metadata": {},
     "execution_count": 14
    }
   ],
   "source": [
    "type(a)"
   ]
  },
  {
   "cell_type": "markdown",
   "metadata": {},
   "source": [
    "### Eksempel  4"
   ]
  },
  {
   "cell_type": "code",
   "execution_count": 15,
   "metadata": {},
   "outputs": [
    {
     "output_type": "execute_result",
     "data": {
      "text/plain": [
       "False"
      ]
     },
     "metadata": {},
     "execution_count": 15
    }
   ],
   "source": [
    "def er_partall(a):\n",
    "    return a%2 == 0\n",
    "\n",
    "er_partall(3)"
   ]
  },
  {
   "cell_type": "code",
   "execution_count": 14,
   "metadata": {},
   "outputs": [
    {
     "data": {
      "text/plain": [
       "True"
      ]
     },
     "execution_count": 14,
     "metadata": {},
     "output_type": "execute_result"
    }
   ],
   "source": [
    "er_partall(2)"
   ]
  },
  {
   "cell_type": "code",
   "execution_count": 15,
   "metadata": {},
   "outputs": [
    {
     "data": {
      "text/plain": [
       "True"
      ]
     },
     "execution_count": 15,
     "metadata": {},
     "output_type": "execute_result"
    }
   ],
   "source": [
    "er_partall(91324)"
   ]
  },
  {
   "source": [
    "#### Underveisoppgaver\n",
    "\n",
    "1. Definer funksjonen $m(x)=-2x^2-3x+7$  "
   ],
   "cell_type": "markdown",
   "metadata": {}
  },
  {
   "cell_type": "code",
   "execution_count": null,
   "metadata": {},
   "outputs": [],
   "source": [
    "# Svar her"
   ]
  },
  {
   "source": [
    "2. Hva er funksjonsverdien når $x = 2$"
   ],
   "cell_type": "markdown",
   "metadata": {}
  },
  {
   "cell_type": "code",
   "execution_count": null,
   "metadata": {},
   "outputs": [],
   "source": [
    "# Svar her"
   ]
  },
  {
   "source": [
    "## Verditabell\n",
    "\n",
    "Vi starter med å definere funksjkonen\n",
    "$$h(x) = x^2 - 5x + 6$$"
   ],
   "cell_type": "markdown",
   "metadata": {}
  },
  {
   "cell_type": "code",
   "execution_count": 27,
   "metadata": {},
   "outputs": [],
   "source": [
    "def h(x):\n",
    "    return x**2 - 5*x + 6"
   ]
  },
  {
   "source": [
    "Så kan vi bruke en forløkke for å sette inn ulike x-verdier i funksjonen"
   ],
   "cell_type": "markdown",
   "metadata": {}
  },
  {
   "cell_type": "code",
   "execution_count": 28,
   "metadata": {},
   "outputs": [
    {
     "output_type": "stream",
     "name": "stdout",
     "text": [
      "12\n6\n2\n0\n0\n2\n6\n12\n"
     ]
    }
   ],
   "source": [
    "for x in range(-1, 7):\n",
    "    print(h(x))"
   ]
  },
  {
   "source": [
    "Og vi kan skrive ut både x-verdier og funksjonsverdiene sammen"
   ],
   "cell_type": "markdown",
   "metadata": {}
  },
  {
   "cell_type": "code",
   "execution_count": 29,
   "metadata": {},
   "outputs": [
    {
     "output_type": "stream",
     "name": "stdout",
     "text": [
      "-1 12\n0 6\n1 2\n2 0\n3 0\n4 2\n5 6\n6 12\n"
     ]
    }
   ],
   "source": [
    "for x in range(-1, 7):\n",
    "    print(x, h(x))"
   ]
  },
  {
   "source": [
    "For å rydde litt opp i utskriften kan vi bruke f-streng.\n",
    "Her velger vi at de skal få to plasse hver slik at tallene legger seg rett under hverandre.\n"
   ],
   "cell_type": "markdown",
   "metadata": {}
  },
  {
   "cell_type": "code",
   "execution_count": 30,
   "metadata": {},
   "outputs": [
    {
     "output_type": "stream",
     "name": "stdout",
     "text": [
      "-1  12\n 0   6\n 1   2\n 2   0\n 3   0\n 4   2\n 5   6\n 6  12\n"
     ]
    }
   ],
   "source": [
    "for x in range(-1, 7):\n",
    "    print(f'{x:2}  {h(x):2}')"
   ]
  },
  {
   "source": [
    "Til slutt kan vi legge på en kolonnenavn"
   ],
   "cell_type": "markdown",
   "metadata": {}
  },
  {
   "cell_type": "code",
   "execution_count": 31,
   "metadata": {},
   "outputs": [
    {
     "output_type": "stream",
     "name": "stdout",
     "text": [
      " x  h(x)\n---------\n-1   12\n 0    6\n 1    2\n 2    0\n 3    0\n 4    2\n 5    6\n 6   12\n"
     ]
    }
   ],
   "source": [
    "print(f' x  h(x)')\n",
    "print(f'---------')\n",
    "\n",
    "for x in range(-1, 7):\n",
    "    print(f'{x:2}   {h(x):2}')"
   ]
  },
  {
   "source": [
    "## Slik blir hele programmet"
   ],
   "cell_type": "markdown",
   "metadata": {}
  },
  {
   "cell_type": "code",
   "execution_count": 32,
   "metadata": {},
   "outputs": [
    {
     "output_type": "stream",
     "name": "stdout",
     "text": [
      " x  h(x) \n---------\n-1   12\n 0    6\n 1    2\n 2    0\n 3    0\n 4    2\n 5    6\n 6   12\n"
     ]
    }
   ],
   "source": [
    "def h(x):\n",
    "    return x**2 - 5*x + 6\n",
    "\n",
    "print(' x  h(x) ')\n",
    "print('---------')\n",
    "\n",
    "for x in range(-1, 7):\n",
    "    print(f'{x:2}   {h(x):2}')"
   ]
  },
  {
   "source": [
    "Nå ser vi også nullpunktene: $x_1 = 2 \\lor x_2 = 3$\n",
    "\n",
    "Det betyr at vi kan lete etter nullpunktene med en løkke og en if-test som undersøker om funksjonsverdien er 0 er en gitt x. Dette forutsetter at nullpunktene er heltall ($\\mathbb{Z}$).\n",
    "Vi skal senere se på mere efektive algoritmer som finner nullpunkter til en funksjon."
   ],
   "cell_type": "markdown",
   "metadata": {}
  },
  {
   "cell_type": "code",
   "execution_count": 34,
   "metadata": {},
   "outputs": [
    {
     "output_type": "stream",
     "name": "stdout",
     "text": [
      "x = 2 er et nullpunkt\nx = 3 er et nullpunkt\n"
     ]
    }
   ],
   "source": [
    "def h(x):\n",
    "    return x**2 - 5*x + 6\n",
    "\n",
    "for x in range(-1, 7):\n",
    "    if h(x) == 0:\n",
    "        print(f'x = {x} er et nullpunkt')"
   ]
  },
  {
   "source": [
    "### Underveisoppgaver\n",
    "\n",
    "1. Lage en verditabell for funksjonen $f(x)=-2x + 4$ for $x \\in [-1, 5]$ der x er et heltall ($\\mathbb{Z}$)"
   ],
   "cell_type": "markdown",
   "metadata": {}
  },
  {
   "cell_type": "code",
   "execution_count": null,
   "metadata": {},
   "outputs": [],
   "source": []
  },
  {
   "source": [
    "2. Hva er nullpunktet?  Prøv å få datamasjinen til å finne det ut med en for-løkke og en if-test som eksempelet over."
   ],
   "cell_type": "markdown",
   "metadata": {}
  },
  {
   "cell_type": "code",
   "execution_count": null,
   "metadata": {},
   "outputs": [],
   "source": []
  },
  {
   "source": [
    "3. Hvor skjærer $f(x)$ y-aksen"
   ],
   "cell_type": "markdown",
   "metadata": {}
  },
  {
   "cell_type": "code",
   "execution_count": null,
   "metadata": {},
   "outputs": [],
   "source": []
  },
  {
   "source": [
    "## Andregradformelen (ABC-formelen)\n",
    "\n",
    "Å løse likningen $ax^2+bx+c=0$ er det samme som å finne nullpunktene til en andregradsfunksjon\n",
    "\n",
    "Vi har tideligere besvist at vis vi bruker fullstendig kvadrat for å løse den likningen med hensyn på $x$ så får vi\n",
    "\n",
    "$$x = \\frac{-b \\pm \\sqrt{b^2-4ac}}{2a}$$\n",
    "\n",
    "\n",
    "\n",
    "I funksjonen \n",
    "\n",
    "$$h(x) = x^2 - 5x + 6$$ \n",
    "\n",
    "er $a=1$, $b=-5$ og $c = 6$\n",
    "\n",
    "\n",
    "Så hvis vi ønkser å finne nullpunktene, altså løse likningen $h(x)=0$ så setter vi inn i abc-formelen under."
   ],
   "cell_type": "markdown",
   "metadata": {}
  },
  {
   "cell_type": "code",
   "execution_count": 37,
   "metadata": {},
   "outputs": [
    {
     "output_type": "stream",
     "name": "stdout",
     "text": [
      "Likningen har to løsninger: x_1 = 2.0 eller x_2 = 3.0\n"
     ]
    }
   ],
   "source": [
    "from math import sqrt   # importer sqrt (kvadratrot) fra math-biblioteket\n",
    "\n",
    "a =  1 \n",
    "b = -5   \n",
    "c =  6\n",
    "\n",
    "D = b**2 - 4*a*c # Diskriminanten\n",
    "\n",
    "# Ingen løsning:\n",
    "if D < 0:\n",
    "    print(\"Likningen har ingen løsning.\")\n",
    "\n",
    "# En løsning\n",
    "elif D == 0:\n",
    "    x = -b/(2*a)\n",
    "    print(f\"Likningen har én løsning: x = {x}\")\n",
    "\n",
    "# To løsninger\n",
    "elif D > 0:\n",
    "    x_1 = (-b - sqrt(D))/(2*a)\n",
    "    x_2 = (-b + sqrt(D))/(2*a)\n",
    "    print(f\"Likningen har to løsninger: x_1 = {x_1} eller x_2 = {x_2}\")"
   ]
  },
  {
   "source": [
    "Underveisoppgaver\n",
    "\n",
    "1. Bruk de to ulike metodene som vist over til å finne nullpunktene til $f(x) = 2x^2+3x-2$"
   ],
   "cell_type": "markdown",
   "metadata": {}
  },
  {
   "cell_type": "code",
   "execution_count": null,
   "metadata": {},
   "outputs": [],
   "source": [
    "# abc her"
   ]
  },
  {
   "cell_type": "code",
   "execution_count": 38,
   "metadata": {},
   "outputs": [],
   "source": [
    "# løkke med if-test her"
   ]
  },
  {
   "source": [
    "2. Hvorfor finner du bare det ene nullpunktet i en av metodene?\n",
    "\n",
    "    dobbelklikk på meg og svar her"
   ],
   "cell_type": "markdown",
   "metadata": {}
  },
  {
   "source": [],
   "cell_type": "markdown",
   "metadata": {}
  },
  {
   "cell_type": "code",
   "execution_count": null,
   "metadata": {},
   "outputs": [],
   "source": []
  }
 ],
 "metadata": {
  "kernelspec": {
   "name": "Python 3.8.3 64-bit ('base': conda)",
   "display_name": "Python 3.8.3 64-bit ('base': conda)",
   "metadata": {
    "interpreter": {
     "hash": "cdc88a7a5bb02b8b406c54a5cb14ab42a574aacaff9fd68c3c0a62f25efabebc"
    }
   }
  },
  "language_info": {
   "codemirror_mode": {
    "name": "ipython",
    "version": 3
   },
   "file_extension": ".py",
   "mimetype": "text/x-python",
   "name": "python",
   "nbconvert_exporter": "python",
   "pygments_lexer": "ipython3",
   "version": "3.8.3-final"
  }
 },
 "nbformat": 4,
 "nbformat_minor": 4
}