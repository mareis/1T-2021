{
 "metadata": {
  "language_info": {
   "codemirror_mode": {
    "name": "ipython",
    "version": 3
   },
   "file_extension": ".py",
   "mimetype": "text/x-python",
   "name": "python",
   "nbconvert_exporter": "python",
   "pygments_lexer": "ipython3",
   "version": "3.8.2-final"
  },
  "orig_nbformat": 2,
  "kernelspec": {
   "name": "python3",
   "display_name": "Python 3.8.2 64-bit",
   "metadata": {
    "interpreter": {
     "hash": "31f2aee4e71d21fbe5cf8b01ff0e069b9275f58929596ceb00d14d90e3e16cd6"
    }
   }
  }
 },
 "nbformat": 4,
 "nbformat_minor": 2,
 "cells": [
  {
   "source": [
    "# Testprøve 2020\n",
    "---\n",
    "**Programmering**\n",
    "\n",
    "\n",
    "## Oppgave 22\n",
    "\n",
    "Algoritme:\n",
    "```\n",
    "opprinnelig_tall = tallet brukeren skriver inn\n",
    "tall = opprinnelig_tall\n",
    "\n",
    "tall = tall*2\n",
    "tall = tall + 10\n",
    "tall = tall/2\n",
    "tall = opprinnelig_tall\n",
    "\n",
    "skriv ut tallet tall\n",
    "```"
   ],
   "cell_type": "markdown",
   "metadata": {}
  },
  {
   "cell_type": "code",
   "execution_count": 2,
   "metadata": {},
   "outputs": [
    {
     "output_type": "stream",
     "name": "stdout",
     "text": [
      "21\n"
     ]
    }
   ],
   "source": [
    "opprinnelig_tall = int(input(\"Skriv inn et tall du tenker på: \"))\n",
    "tall = opprinnelig_tall\n",
    "\n",
    "tall = tall*2\n",
    "tall = tall + 10\n",
    "tall = tall/2\n",
    "tall = opprinnelig_tall\n",
    "\n",
    "print(f\"Tallet du står igjen med er {tall}.\")"
   ]
  },
  {
   "source": [
    "## Oppgave 27\n",
    "**a**\n",
    "```\n",
    "1   for n in range(5):  # For-løkke med 5 iterasjoner med n fra 0 til 4\n",
    "2       tall = 2*n      # Formel for partall\n",
    "3       print(tall)     # Skriver ut partallene\n",
    "```\n",
    "\n",
    "\n",
    "**b**"
   ],
   "cell_type": "markdown",
   "metadata": {}
  },
  {
   "cell_type": "code",
   "execution_count": 2,
   "metadata": {},
   "outputs": [
    {
     "output_type": "stream",
     "name": "stdout",
     "text": [
      "0\n2\n4\n6\n8\nSummen blir 20.\n"
     ]
    }
   ],
   "source": [
    "sum = 0\n",
    "for n in range(0, 5):\n",
    "    tall = 2*n\n",
    "    print(tall)\n",
    "    sum = sum + tall\n",
    "\n",
    "print(f\"Summen blir {sum}.\")"
   ]
  },
  {
   "source": [
    "## Oppgave 28"
   ],
   "cell_type": "markdown",
   "metadata": {}
  },
  {
   "cell_type": "code",
   "execution_count": 7,
   "metadata": {},
   "outputs": [
    {
     "output_type": "stream",
     "name": "stdout",
     "text": [
      " x   f(x)\n---------\n-2    40\n-1    21\n 0     8\n 1     1\n 2     0\n 3     5\n 4    16\n 5    33\n 6    56\n 7    85\n 8   120\n"
     ]
    }
   ],
   "source": [
    "def f(x):\n",
    "    return 3*x**2 - 10*x + 8\n",
    "\n",
    "print(f\" x   f(x)\")\n",
    "print(f\"---------\")\n",
    "\n",
    "for x in range(-2, 9):\n",
    "    print(f\"{x:2}   {f(x):3}\")"
   ]
  },
  {
   "source": [
    "## Oppgave 29\n"
   ],
   "cell_type": "markdown",
   "metadata": {}
  },
  {
   "cell_type": "code",
   "execution_count": 24,
   "metadata": {},
   "outputs": [
    {
     "output_type": "stream",
     "name": "stdout",
     "text": [
      "Du må løpe 0.174 meter oppover for hver meter du løper bortover\nDen gjennomsnitlige stigningen er 17.4%.\n"
     ]
    }
   ],
   "source": [
    "# Punkt 1\n",
    "x_1 = 0 \n",
    "y_1 = 700\n",
    "\n",
    "# Punkt 2\n",
    "x_2 = 4.2 \n",
    "y_2 = 1431\n",
    "\n",
    "x_2 = x_2*1000 # Gjør om til meter\n",
    "x_1 = x_1*1000 # Gjør om til meter\n",
    "\n",
    "lengde_bortover = x_2 - x_1\n",
    "høydemeter = y_2 - y_1\n",
    "\n",
    "gjennomsnitlig_stigning = høydemeter/lengde_bortover\n",
    "\n",
    "print(f\"Du må løpe {gjennomsnitlig_stigning:.3f} meter oppover for hver meter du løper bortover.\")\n",
    "\n",
    "print(f\"Den gjennomsnitlige stigningen er {gjennomsnitlig_stigning*100:.1f}%.\")"
   ]
  },
  {
   "source": [
    "## Oppgave 30"
   ],
   "cell_type": "markdown",
   "metadata": {}
  },
  {
   "cell_type": "code",
   "execution_count": 14,
   "metadata": {},
   "outputs": [
    {
     "output_type": "stream",
     "name": "stdout",
     "text": [
      "Det minste tallet i listen er 1.\n"
     ]
    }
   ],
   "source": [
    "liste = [5, 2, 7, 10, 1, 4, 3]\n",
    "minste = 999                    # Startverdi for det minste tallet\n",
    "for tall in liste:              # Itererer gjennom listen med tall med en for-løkke\n",
    "    if tall < minste:           # Hvis tall er mindre en foreløpig minste tall\n",
    "        minste = tall           # Sett det minste til det tallet\n",
    "\n",
    "print(f\"Det minste tallet i listen er {minste}.\")"
   ]
  },
  {
   "cell_type": "code",
   "execution_count": 15,
   "metadata": {},
   "outputs": [
    {
     "output_type": "stream",
     "name": "stdout",
     "text": [
      "1 1\n2 13\n3 37\n4 73\n5 121\n6 181\n7 253\n8 337\n9 433\n10 541\n11 661\n12 793\n13 937\n14 1093\n15 1261\n16 1441\n17 1633\n18 1837\n19 2053\n20 2281\n21 2521\n22 2773\n23 3037\n24 3313\n25 3601\n26 3901\n27 4213\n28 4537\n29 4873\n"
     ]
    }
   ],
   "source": [
    "t = 0\n",
    "h = 1\n",
    "for n in range(29):\n",
    "    t = t + n\n",
    "    h = h + n*6\n",
    "    print(n+1, 6*t + h)"
   ]
  },
  {
   "cell_type": "code",
   "execution_count": null,
   "metadata": {},
   "outputs": [],
   "source": []
  },
  {
   "cell_type": "code",
   "execution_count": 13,
   "metadata": {},
   "outputs": [
    {
     "output_type": "execute_result",
     "data": {
      "text/plain": [
       "37"
      ]
     },
     "metadata": {},
     "execution_count": 13
    }
   ],
   "source": []
  },
  {
   "cell_type": "code",
   "execution_count": null,
   "metadata": {},
   "outputs": [],
   "source": []
  }
 ]
}