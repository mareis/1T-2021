{
 "metadata": {
  "language_info": {
   "codemirror_mode": {
    "name": "ipython",
    "version": 3
   },
   "file_extension": ".py",
   "mimetype": "text/x-python",
   "name": "python",
   "nbconvert_exporter": "python",
   "pygments_lexer": "ipython3",
   "version": "3.8.2-final"
  },
  "orig_nbformat": 2,
  "kernelspec": {
   "name": "python3",
   "display_name": "Python 3.8.2 64-bit",
   "metadata": {
    "interpreter": {
     "hash": "31f2aee4e71d21fbe5cf8b01ff0e069b9275f58929596ceb00d14d90e3e16cd6"
    }
   }
  }
 },
 "nbformat": 4,
 "nbformat_minor": 2,
 "cells": [
  {
   "source": [
    "# Terminprøve H2020\n",
    "**Python**\n",
    "\n",
    "## Oppgave 17\n",
    "\n",
    "**a)** "
   ],
   "cell_type": "markdown",
   "metadata": {}
  },
  {
   "cell_type": "code",
   "execution_count": 1,
   "metadata": {},
   "outputs": [
    {
     "output_type": "stream",
     "name": "stdout",
     "text": [
      "1\n3\n5\n7\n9\n11\n13\n15\n17\n19\n"
     ]
    }
   ],
   "source": [
    "for n in range(10):     # For-løkke som itererer gjennom koden med \n",
    "                        # innrykk under. n starter på 0 og slutter på 9\n",
    "    tall = 2*n + 1      # Tilordner verdien fra 2*n +1 (odetall) til   \n",
    "                        # variabelen tall.\n",
    "    print(tall)         # Skriver ut verdien til variabelen tall. "
   ]
  },
  {
   "source": [
    "**b)**\n",
    "\n",
    "Vi ser at summen av fåregående oddetall blir kvadrattall "
   ],
   "cell_type": "markdown",
   "metadata": {}
  },
  {
   "cell_type": "code",
   "execution_count": 3,
   "metadata": {},
   "outputs": [
    {
     "output_type": "stream",
     "name": "stdout",
     "text": [
      "1\n4\n9\n16\n25\n36\n49\n64\n81\n100\n"
     ]
    }
   ],
   "source": [
    "sum = 0\n",
    "for n in range(10):\n",
    "    tall = 2*n + 1\n",
    "    sum = sum + tall\n",
    "    print(sum)"
   ]
  },
  {
   "source": [
    "## Oppgave 19\n",
    "**c**"
   ],
   "cell_type": "markdown",
   "metadata": {}
  },
  {
   "cell_type": "code",
   "execution_count": 1,
   "metadata": {},
   "outputs": [
    {
     "output_type": "stream",
     "name": "stdout",
     "text": [
      "Det koster 148.21 kr for 17 km.\n"
     ]
    }
   ],
   "source": [
    "def pris(km):\n",
    "    return 2.71*km + 102.14\n",
    "\n",
    "print(f'Det koster {pris(17):.2f} kr for 17 km.')"
   ]
  },
  {
   "source": [
    "**d**"
   ],
   "cell_type": "markdown",
   "metadata": {}
  },
  {
   "cell_type": "code",
   "execution_count": 8,
   "metadata": {},
   "outputs": [
    {
     "output_type": "stream",
     "name": "stdout",
     "text": [
      "km   pris (kr)\n--------------\n 2    107.56\n 4    112.98\n 6    118.40\n 8    123.82\n10    129.24\n12    134.66\n14    140.08\n16    145.50\n18    150.92\n20    156.34\n22    161.76\n24    167.18\n26    172.60\n28    178.02\n30    183.44\n"
     ]
    }
   ],
   "source": [
    "def pris(km):\n",
    "    return 2.71*km + 102.14\n",
    "\n",
    "print(f\"km   pris (kr)\")\n",
    "print(\"--------------\")\n",
    "for km in range(2, 31, 2):\n",
    "    print(f\"{km:2}    {pris(km):.2f}\")"
   ]
  },
  {
   "cell_type": "code",
   "execution_count": null,
   "metadata": {},
   "outputs": [],
   "source": []
  }
 ]
}