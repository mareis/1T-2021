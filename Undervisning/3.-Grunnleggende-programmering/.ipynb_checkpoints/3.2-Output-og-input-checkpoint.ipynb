{
 "cells": [
  {
   "cell_type": "markdown",
   "metadata": {},
   "source": [
    "# Kapittel 3.2"
   ]
  },
  {
   "cell_type": "markdown",
   "metadata": {},
   "source": [
    "## 3.2.1 Hello World"
   ]
  },
  {
   "cell_type": "markdown",
   "metadata": {},
   "source": [
    "I mange tiår har prgrammerere lært et nytt språk med å starte med å lage et lite program som skriver ut \"hello world\". Så da passer det bra at vi også starter med det klassiske eksempelet 😎."
   ]
  },
  {
   "cell_type": "code",
   "execution_count": 1,
   "metadata": {},
   "outputs": [
    {
     "name": "stdout",
     "output_type": "stream",
     "text": [
      "Hello, world.\n"
     ]
    }
   ],
   "source": [
    "print('Hello, world.')"
   ]
  },
  {
   "cell_type": "markdown",
   "metadata": {},
   "source": [
    "Datteren min krevde at jeg tok med denne.\n",
    "\n",
    "<img align='left' src='https://i.pinimg.com/originals/90/6a/d9/906ad9a5dc4ed6ee65fd1b03d63e1663.gif'>"
   ]
  },
  {
   "cell_type": "markdown",
   "metadata": {},
   "source": [
    "### Utskrift og tekststrenger med fnutter \" ' ´\n",
    "\n",
    "For å lage teksstrenger i Python må vi bruke anførselstegn, det spiller i utgangspunktet ingen rolle om det er enkle (' ') eller doble (\" \") anførselstegn. \n",
    "\n",
    "Å bruke doble anførselstegn kan skape problemer hvis du skal sitere noe i tekststrengen. Tenk deg teksten: Noen påstår at vi har fått \"svenske tilstander\" i Norge - hva gjør man da?\n",
    "\n",
    "Skriver man: print (\"Noen påstår vi har fått \"svenske tilstander\" i Norge\") vil du få en feilmelding. Da må du bruke enkle anførselstegn: print ('Noen påstår vi har fått \"svenske tilstander\" i Norge') for at koden skal tolkes riktig. "
   ]
  },
  {
   "cell_type": "markdown",
   "metadata": {},
   "source": [
    "### Underveisoppgaver\n",
    "Skriv ut:\n",
    "\n",
    "**1.** En liten tekst som inneholder navnet ditt."
   ]
  },
  {
   "cell_type": "code",
   "execution_count": 2,
   "metadata": {},
   "outputs": [],
   "source": [
    "# Skriv svaret her"
   ]
  },
  {
   "cell_type": "markdown",
   "metadata": {},
   "source": [
    "**2.** Programmering blir \"kjedelig\"."
   ]
  },
  {
   "cell_type": "code",
   "execution_count": 3,
   "metadata": {},
   "outputs": [],
   "source": [
    "# Skriv svaret her"
   ]
  },
  {
   "cell_type": "markdown",
   "metadata": {},
   "source": [
    "**3.** ’To be, or not to be’ er et sitat."
   ]
  },
  {
   "cell_type": "code",
   "execution_count": 4,
   "metadata": {},
   "outputs": [],
   "source": [
    "# Skriv svaret her"
   ]
  },
  {
   "cell_type": "markdown",
   "metadata": {},
   "source": [
    "## 3.2.2 Variabler"
   ]
  },
  {
   "cell_type": "markdown",
   "metadata": {},
   "source": [
    "#### Definisjon: \n",
    "En variabel er et navn som representerer en verdi lagret i datamaskinens minne.\n",
    "\n",
    "- I all programmering trenger man variable i forbindelse med utregning, sammenlikning, lagre og gjøre endringer på informasjon\n",
    "\n",
    "- Det kalles en variabel fordi innholdet kan variere i løpet av programmet."
   ]
  },
  {
   "cell_type": "markdown",
   "metadata": {},
   "source": [
    "#### Opprette variabler med tilordning\n",
    "\n",
    "Man bruker et tilordningsuttrykk for å opprette en variable og lage en referanse til en dataverdi:"
   ]
  },
  {
   "cell_type": "code",
   "execution_count": 3,
   "metadata": {},
   "outputs": [
    {
     "name": "stdout",
     "output_type": "stream",
     "text": [
      "23\n",
      "24\n"
     ]
    }
   ],
   "source": [
    "alder = 23\n",
    "print(alder)\n",
    "alder = alder + 1\n",
    "print(alder)"
   ]
  },
  {
   "cell_type": "markdown",
   "metadata": {},
   "source": [
    "- Variabelen alder refererer til verdien 23 i datamaskinens minne:\n",
    "<img src='variabel.png'>\n",
    "\n",
    "En tilordning skrives på formen:\n",
    "\n",
    "```python\n",
    "variabel = uttrykk\n",
    "```"
   ]
  },
  {
   "cell_type": "markdown",
   "metadata": {},
   "source": [
    "- Tegnet ”=” (er lik) er en tilordningsoperator. \n",
    "\n",
    "- variabel er navnet på variabelen\n",
    "\n",
    "- uttrykk representerer en verdi"
   ]
  },
  {
   "cell_type": "markdown",
   "metadata": {},
   "source": [
    "### Navneregler for variabler\n",
    "\n",
    "- Skal ikke bruke nøkkelord i Python som variabelnavn (dvs. ord som betyr noe i språket, som f.eks. print, if)\n",
    "- Hvis du overskriver nøkkelord kan du bruke funksjonen del(variabel) for å slette variabelen.\n",
    "- Variabelnavn kan ikke inneholde mellomrom (space)\n",
    "- Første bokstav i navnet må være bokstav eller underscore (”_”)\n",
    "- Etter første bokstav kan man bruke bokstaver, tall og underscore.\n",
    "- Stor og liten bokstav tolkes forskjellig!\n",
    "- Du kan bruke æ,ø,og å i variabelnavn i Python, men det anbefales ikke!"
   ]
  },
  {
   "cell_type": "markdown",
   "metadata": {},
   "source": [
    "### Tips til variabelnavn\n",
    "- Bruk variabelnavn som sier noe om hva variabelen skal brukes til:\n"
   ]
  },
  {
   "cell_type": "code",
   "execution_count": 7,
   "metadata": {},
   "outputs": [],
   "source": [
    "pris = 29"
   ]
  },
  {
   "cell_type": "markdown",
   "metadata": {},
   "source": [
    "- For variabelnavn som består av flere ord, bruk\n",
    "underscore mellom hvert ord:"
   ]
  },
  {
   "cell_type": "code",
   "execution_count": 7,
   "metadata": {},
   "outputs": [],
   "source": [
    "antall_elever = 300\n",
    "sum_utgifter = 950"
   ]
  },
  {
   "cell_type": "markdown",
   "metadata": {},
   "source": [
    "- Man kan også bruke stor bokstav for hvert nytt ord i en variabel (kamelpukkel-stil):"
   ]
  },
  {
   "cell_type": "code",
   "execution_count": 8,
   "metadata": {},
   "outputs": [],
   "source": [
    "antallElever = 300\n",
    "sumUtgifter = 950"
   ]
  },
  {
   "cell_type": "markdown",
   "metadata": {},
   "source": [
    "### Nytt i Python 3.6\n",
    "\n",
    "#### Greske bokstaver\n",
    "---\n",
    "\n",
    "Skriv \\navn og trykk på tab\n",
    "\n",
    "\\alpha + tab = 30"
   ]
  },
  {
   "cell_type": "code",
   "execution_count": 9,
   "metadata": {},
   "outputs": [],
   "source": [
    "α = 30"
   ]
  },
  {
   "cell_type": "markdown",
   "metadata": {},
   "source": [
    "#### f-string\n",
    "___\n",
    "\n",
    "Vi bruker f-string når vi skal formatere utskriften vår. f-string gjør at vi enkelt kan inkludere variabler i en tekst og formatere verdien.\n",
    "\n",
    "```Python\n",
    "f'Tekst før {variabel} og etter variabel'\n",
    "```\n",
    "\n",
    "Vi bruker krøllparanteser rundt variabelene.\n"
   ]
  },
  {
   "cell_type": "code",
   "execution_count": 8,
   "metadata": {},
   "outputs": [
    {
     "name": "stdout",
     "output_type": "stream",
     "text": [
      "Hei, John Steinar.\n"
     ]
    }
   ],
   "source": [
    "navn = 'Steinar'\n",
    "print(f'Hei, {navn}.')"
   ]
  },
  {
   "cell_type": "code",
   "execution_count": 11,
   "metadata": {},
   "outputs": [
    {
     "name": "stdout",
     "output_type": "stream",
     "text": [
      "tall = 1.342353\n"
     ]
    }
   ],
   "source": [
    "tall = 1.342353\n",
    "print(f'tall = {tall}')"
   ]
  },
  {
   "cell_type": "markdown",
   "metadata": {},
   "source": [
    "Det er også mulig å formatere utskriften"
   ]
  },
  {
   "cell_type": "code",
   "execution_count": 12,
   "metadata": {},
   "outputs": [
    {
     "name": "stdout",
     "output_type": "stream",
     "text": [
      "tall = 1.34\n"
     ]
    }
   ],
   "source": [
    "tall = 1.342353\n",
    "print(f'tall = {tall:.2f}')"
   ]
  },
  {
   "cell_type": "markdown",
   "metadata": {},
   "source": [
    "Vi kan også inkludere flere variabler i teksten."
   ]
  },
  {
   "cell_type": "code",
   "execution_count": 13,
   "metadata": {},
   "outputs": [
    {
     "name": "stdout",
     "output_type": "stream",
     "text": [
      "Hei, Steinar. Du er 52 år.\n"
     ]
    }
   ],
   "source": [
    "navn = 'Steinar'\n",
    "alder = 52\n",
    "print(f'Hei, {navn}. Du er {alder} år.')"
   ]
  },
  {
   "cell_type": "markdown",
   "metadata": {},
   "source": [
    "### Flere eksempler"
   ]
  },
  {
   "cell_type": "code",
   "execution_count": 14,
   "metadata": {},
   "outputs": [
    {
     "name": "stdout",
     "output_type": "stream",
     "text": [
      "a = 0.3333333333333333\n",
      "a = 0.33\n",
      "a = 3.33e-01\n",
      "c = 1.496e+08\n",
      "a = 33.3%\n",
      "b =        500\n",
      "a =        0.3\n",
      "a =    0.3    \n"
     ]
    }
   ],
   "source": [
    "a = 1 / 3\n",
    "b = 500\n",
    "c = 149600000\n",
    "\n",
    "print(f'a = {a}')        # uformatert\n",
    "print(f'a = {a:.2f}')    # 2 desimaler, f etter 2 står for float\n",
    "print(f'a = {a:.2e}')    # vitenskapelig notasjon\n",
    "print(f'c = {c:.3e}')    # vitenskapelig notasjon\n",
    "print(f'a = {a:.1%}')    # tallet i prosent med 0 desimaler\n",
    "print(f'b = {b:10d}')    # heltall der det settes av ti tegn\n",
    "print(f'a = {a:10.1f}')  # 1 desimal og setter av ti tegn\n",
    "print(f'a = {a:^10.1f}') # 1 desimal og setter av ti tegn og sentrerer "
   ]
  },
  {
   "cell_type": "markdown",
   "metadata": {},
   "source": [
    "### Endring av verdi i en variabel\n",
    "- En variabel kan endre verdi i løpet av et program.\n",
    "- Man endrer verdien av variabel ved å gjøre en ny tilordning.\n",
    "- Eks:"
   ]
  },
  {
   "cell_type": "code",
   "execution_count": 15,
   "metadata": {},
   "outputs": [
    {
     "name": "stdout",
     "output_type": "stream",
     "text": [
      "alder = 29\n",
      "alder = 30\n"
     ]
    }
   ],
   "source": [
    "alder = 29\n",
    "print(f'alder = {alder}')\n",
    "alder = 30\n",
    "print(f'alder = {alder}')"
   ]
  },
  {
   "cell_type": "markdown",
   "metadata": {},
   "source": [
    "<img src='variabelverdi.png' width='400px'>"
   ]
  },
  {
   "cell_type": "markdown",
   "metadata": {},
   "source": [
    "### Underveisoppgaver 🤓\n",
    "\n",
    "Bruk f-string i utskriften"
   ]
  },
  {
   "cell_type": "markdown",
   "metadata": {},
   "source": [
    "**1.** Opprett en variabel for antall epler og gi den verdien 23"
   ]
  },
  {
   "cell_type": "code",
   "execution_count": 17,
   "metadata": {},
   "outputs": [],
   "source": [
    "# Skriv svaret her\n",
    "antall_epler = 23"
   ]
  },
  {
   "cell_type": "markdown",
   "metadata": {},
   "source": [
    "**2.** Opprett en variabel for antall bananer og gi den verdien 12"
   ]
  },
  {
   "cell_type": "code",
   "execution_count": 18,
   "metadata": {},
   "outputs": [],
   "source": [
    "# Skriv svaret her\n",
    "antall_bananer = 12"
   ]
  },
  {
   "cell_type": "markdown",
   "metadata": {},
   "source": [
    "**3.** Skriv ut teksten ”Antall epler:” og verdi av variabel"
   ]
  },
  {
   "cell_type": "code",
   "execution_count": 25,
   "metadata": {},
   "outputs": [
    {
     "name": "stdout",
     "output_type": "stream",
     "text": [
      "Antall epler: 23\n"
     ]
    }
   ],
   "source": [
    "# Skriv svaret her\n",
    "print(f'Antall epler: {antall_epler}')"
   ]
  },
  {
   "cell_type": "markdown",
   "metadata": {},
   "source": [
    "**4.** Skriv ut teksten ”Antall bananer:” og verdi av variabel"
   ]
  },
  {
   "cell_type": "code",
   "execution_count": 26,
   "metadata": {},
   "outputs": [
    {
     "name": "stdout",
     "output_type": "stream",
     "text": [
      "Antall bananer: 12\n"
     ]
    }
   ],
   "source": [
    "# Skriv svaret her\n",
    "print(f'Antall bananer: {antall_bananer}')"
   ]
  },
  {
   "cell_type": "markdown",
   "metadata": {},
   "source": [
    "**5.** Endre verdien av variabel for antall epler til 43"
   ]
  },
  {
   "cell_type": "code",
   "execution_count": 27,
   "metadata": {},
   "outputs": [],
   "source": [
    "# Skriv svaret her\n",
    "antall_epler = 43"
   ]
  },
  {
   "cell_type": "markdown",
   "metadata": {},
   "source": [
    "**6.** Endre verdien av variabel for antall bananer til 17"
   ]
  },
  {
   "cell_type": "code",
   "execution_count": 28,
   "metadata": {},
   "outputs": [],
   "source": [
    "# Skriv svaret her\n",
    "antall_bananer = 17"
   ]
  },
  {
   "cell_type": "markdown",
   "metadata": {},
   "source": [
    "**7.** Skriv teksten ”Antall epler: ” og verdi av variabel, og teksten ”Antall bananer:” og verdi av variabel."
   ]
  },
  {
   "cell_type": "code",
   "execution_count": 29,
   "metadata": {},
   "outputs": [
    {
     "name": "stdout",
     "output_type": "stream",
     "text": [
      "Antall epler: 43\n",
      "Antall bananer: 17\n"
     ]
    }
   ],
   "source": [
    "# Skriv svaret her\n",
    "print(f'Antall epler: {antall_epler}')\n",
    "print(f'Antall bananer: {antall_bananer}')"
   ]
  },
  {
   "cell_type": "markdown",
   "metadata": {},
   "source": [
    "**8.** Opprett to variabler og skriv dem ut i en setning."
   ]
  },
  {
   "cell_type": "code",
   "execution_count": 30,
   "metadata": {},
   "outputs": [
    {
     "name": "stdout",
     "output_type": "stream",
     "text": [
      "Jeg heter Mads og er 36 år.\n"
     ]
    }
   ],
   "source": [
    "# Skriv svaret her\n",
    "alder = 36\n",
    "navn = \"Mads\"\n",
    "print(f'Jeg heter {navn} og er {alder} år.')"
   ]
  },
  {
   "cell_type": "markdown",
   "metadata": {},
   "source": [
    "**9.** Opprett variablene g og m. Gi variablene verdi og bruk dem i utskriften:\n",
    "\n",
    "    - Det er 1 g og 2 m-er i programmering."
   ]
  },
  {
   "cell_type": "code",
   "execution_count": 31,
   "metadata": {},
   "outputs": [
    {
     "name": "stdout",
     "output_type": "stream",
     "text": [
      "Det er 1 g og 2 m-er i programmering.\n"
     ]
    }
   ],
   "source": [
    "# Skriv svaret her\n",
    "g = 1\n",
    "m = 2\n",
    "print(f'Det er {g} g og {m} m-er i programmering.')"
   ]
  },
  {
   "cell_type": "markdown",
   "metadata": {},
   "source": [
    "**10.** Skriv ut en passende tekst og variabelverdiene til: "
   ]
  },
  {
   "cell_type": "code",
   "execution_count": 32,
   "metadata": {},
   "outputs": [
    {
     "name": "stdout",
     "output_type": "stream",
     "text": [
      "300 elever betalte til sammen 950 kr.\n"
     ]
    }
   ],
   "source": [
    "antallElever = 300\n",
    "sumUtgifter = 950\n",
    "print(f'{antallElever} elever betalte til sammen {sumUtgifter} kr.')"
   ]
  },
  {
   "cell_type": "code",
   "execution_count": 33,
   "metadata": {},
   "outputs": [
    {
     "name": "stdout",
     "output_type": "stream",
     "text": [
      "17, 300, 1\n"
     ]
    }
   ],
   "source": [
    "print(f'{antall_bananer}, {antallElever}, {g}')"
   ]
  },
  {
   "cell_type": "markdown",
   "metadata": {},
   "source": [
    "### Datatyper\n",
    "- I Python kan variabelen ta vare på ulike typer data (datatyper) som heltall, desimaltall, tekst og sannhetsverdier."
   ]
  },
  {
   "cell_type": "markdown",
   "metadata": {},
   "source": [
    "- Heltall (int):"
   ]
  },
  {
   "cell_type": "code",
   "execution_count": 35,
   "metadata": {},
   "outputs": [],
   "source": [
    "antall = 7"
   ]
  },
  {
   "cell_type": "markdown",
   "metadata": {},
   "source": [
    "- Desimaltall (float): "
   ]
  },
  {
   "cell_type": "code",
   "execution_count": 36,
   "metadata": {},
   "outputs": [],
   "source": [
    "penger = 35.5 # Bruker . i stedet for ,"
   ]
  },
  {
   "cell_type": "markdown",
   "metadata": {},
   "source": [
    "- Tekststreng (str):"
   ]
  },
  {
   "cell_type": "code",
   "execution_count": 37,
   "metadata": {},
   "outputs": [],
   "source": [
    "navn = 'Petter' # Bruker fnutter"
   ]
  },
  {
   "cell_type": "markdown",
   "metadata": {},
   "source": [
    "- Sannhetsverdi (bool):"
   ]
  },
  {
   "cell_type": "code",
   "execution_count": 38,
   "metadata": {},
   "outputs": [],
   "source": [
    "rykte = True #sann\n",
    "\n",
    "rykte = False #usann"
   ]
  },
  {
   "cell_type": "markdown",
   "metadata": {},
   "source": [
    "- Datatypen til en verdi eller en variabel kan man finne ved å bruke funksjonen type(uttrykk)"
   ]
  },
  {
   "cell_type": "code",
   "execution_count": 39,
   "metadata": {},
   "outputs": [
    {
     "name": "stdout",
     "output_type": "stream",
     "text": [
      "Variabel antall = 7 og har datatypen <class 'int'>.\n",
      "Variabel penger = 35.5 og har datatypen <class 'float'>.\n",
      "Variabel navn = Petter og har datatypen <class 'str'>.\n",
      "Variabel rykte = False og har datatypen <class 'bool'>.\n"
     ]
    }
   ],
   "source": [
    "print(f'Variabel antall = {antall} og har datatypen {type(antall)}.')\n",
    "print(f'Variabel penger = {penger} og har datatypen {type(penger)}.')\n",
    "print(f'Variabel navn = {navn} og har datatypen {type(navn)}.')\n",
    "print(f'Variabel rykte = {rykte} og har datatypen {type(rykte)}.')"
   ]
  },
  {
   "cell_type": "markdown",
   "metadata": {},
   "source": [
    "- I Python får variabler type ved tilordning\n",
    "- Dvs. at en variabel kan bytte datatype"
   ]
  },
  {
   "cell_type": "markdown",
   "metadata": {},
   "source": [
    "#### Underveisoppgaver\n",
    "<a href='https://play.kahoot.it/#/k/bbc80db2-7562-4bc2-8414-33b090538f90'>Kahoot</a>"
   ]
  },
  {
   "cell_type": "markdown",
   "metadata": {},
   "source": [
    "## 3.2.3 Input\n",
    "- IPythonbrukesfunksjoneninputforåhenteinput fra tastaturet:\n",
    "   variabel = input(prompt)\n",
    "   \n",
    " - Her er prompt teksten som vises i konsollet når programmet spør etter input fra brukeren\n",
    " - variabel er navnet på variabelen som refererer til dataen som blir tastet inn ved hjelp av tastaturet.\n",
    " - Eks:"
   ]
  },
  {
   "cell_type": "code",
   "execution_count": 3,
   "metadata": {},
   "outputs": [
    {
     "name": "stdin",
     "output_type": "stream",
     "text": [
      "Hva er navnet \"ditt\"?  1\n"
     ]
    }
   ],
   "source": [
    "navn = input('Hva er navnet \"ditt\"? ')"
   ]
  },
  {
   "cell_type": "markdown",
   "metadata": {},
   "source": [
    "<img width='100px' align='left' src='https://i.pinimg.com/736x/99/95/cd/9995cd666590bd8049ed559beb9acf3b--shocked-emoji-wall-prints.jpg'>\n",
    "\n"
   ]
  },
  {
   "cell_type": "markdown",
   "metadata": {},
   "source": [
    "- Merk at det er et mellomrom på slutten av prompt-teksten. Dette er fordi Python ikke lager mellomrom mellom prompt og det som skal skrives inn automatisk.\n",
    "\n",
    "Verdien til navn er nå"
   ]
  },
  {
   "cell_type": "code",
   "execution_count": 6,
   "metadata": {},
   "outputs": [
    {
     "data": {
      "text/plain": [
       "'1'"
      ]
     },
     "execution_count": 6,
     "metadata": {},
     "output_type": "execute_result"
    }
   ],
   "source": [
    "navn"
   ]
  },
  {
   "cell_type": "markdown",
   "metadata": {},
   "source": [
    "### Lese inn tall med input-funksjonen \n",
    "- input-funksjonen returnerer alltid en tekststreng, dvs. en tekst med fnutter rundt.\n",
    "- Hvis du ønsker å gjøre beregninger med det som brukeren skriver inn, må du gjøre om tekststrengen til et heltall (int) eller til et flyttall (float) vha. funksjoner:\n"
   ]
  },
  {
   "cell_type": "code",
   "execution_count": 33,
   "metadata": {},
   "outputs": [
    {
     "name": "stdout",
     "output_type": "stream",
     "text": [
      "Verdi: \n",
      " er <class 'str'>\n"
     ]
    }
   ],
   "source": [
    "variabel = input('Verdi: ') # input-funksjonen returnerer alltid en tekststreng\n",
    "print(f'{variabel} er {type(variabel)}')"
   ]
  },
  {
   "cell_type": "code",
   "execution_count": 8,
   "metadata": {},
   "outputs": [
    {
     "name": "stdout",
     "output_type": "stream",
     "text": [
      "M + O = MO\n"
     ]
    }
   ],
   "source": [
    "# Obs 🤬\n",
    "tall1 = '2'\n",
    "tall2 = '5'\n",
    "print(f'{tall1} + {tall2} = {tall1+tall2}')"
   ]
  },
  {
   "cell_type": "code",
   "execution_count": 35,
   "metadata": {},
   "outputs": [
    {
     "name": "stdout",
     "output_type": "stream",
     "text": [
      "Verdi: 12\n",
      "12 er <class 'int'>\n"
     ]
    }
   ],
   "source": [
    "variabel = int(input('Verdi: ')) # Oversetter element til et heltall \n",
    "print(f'{variabel} er {type(variabel)}')"
   ]
  },
  {
   "cell_type": "code",
   "execution_count": 36,
   "metadata": {},
   "outputs": [
    {
     "name": "stdout",
     "output_type": "stream",
     "text": [
      "Verdi: 4.6\n",
      "4.6 er <class 'float'>\n"
     ]
    }
   ],
   "source": [
    "variabel = float(input('Verdi: ')) # Oversetter element til desimaltall \n",
    "print(f'{variabel} er {type(variabel)}')"
   ]
  },
  {
   "cell_type": "markdown",
   "metadata": {},
   "source": [
    "#### Hente flere verdier fra brukeren"
   ]
  },
  {
   "cell_type": "code",
   "execution_count": 37,
   "metadata": {},
   "outputs": [
    {
     "name": "stdout",
     "output_type": "stream",
     "text": [
      "Hva heter du? Steinar\n",
      "Hvor gammel er du? 42\n",
      "Hei, Steinar. Du er 42 år.\n"
     ]
    }
   ],
   "source": [
    "navn = input('Hva heter du? ')\n",
    "alder = int(input('Hvor gammel er du? '))\n",
    "print(f'Hei, {navn}. Du er {alder} år.')"
   ]
  },
  {
   "cell_type": "markdown",
   "metadata": {},
   "source": [
    "#### Underveisoppgaver\n",
    "**1.** Skriv koden for å utføre følgende:\n",
    " - Spør brukeren etter navnet og lagre navnet i en variabel\n",
    " - Skriv ut 'Hei ' og navnet som ble skrevet inn til konsollet."
   ]
  },
  {
   "cell_type": "code",
   "execution_count": null,
   "metadata": {},
   "outputs": [],
   "source": []
  },
  {
   "cell_type": "markdown",
   "metadata": {},
   "source": [
    "**2.**  Spør brukeren om alder og skrive ut til skjermen hvor gammel vedkommende vil være om 10 år."
   ]
  },
  {
   "cell_type": "code",
   "execution_count": null,
   "metadata": {},
   "outputs": [],
   "source": []
  }
 ],
 "metadata": {
  "kernelspec": {
   "display_name": "Python 3",
   "language": "python",
   "name": "python3"
  },
  "language_info": {
   "codemirror_mode": {
    "name": "ipython",
    "version": 3
   },
   "file_extension": ".py",
   "mimetype": "text/x-python",
   "name": "python",
   "nbconvert_exporter": "python",
   "pygments_lexer": "ipython3",
   "version": "3.7.3"
  }
 },
 "nbformat": 4,
 "nbformat_minor": 4
}
