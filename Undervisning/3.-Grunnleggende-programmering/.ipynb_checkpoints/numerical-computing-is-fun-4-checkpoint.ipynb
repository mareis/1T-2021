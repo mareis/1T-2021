{
 "cells": [
  {
   "cell_type": "markdown",
   "metadata": {},
   "source": [
    "# NUMERICAL COMPUTING IS FUN"
   ]
  },
  {
   "cell_type": "markdown",
   "metadata": {},
   "source": [
    "### A guide to principles of computer science and numerical computing for all ages"
   ]
  },
  {
   "cell_type": "markdown",
   "metadata": {},
   "source": [
    "As much as this series is to educate aspiring computer programmers and data scientists of all ages, after playing with computers and numbers for nearly four decades, I've also made this as a reminder for myself on how to have fun with computers and maths."
   ]
  },
  {
   "cell_type": "markdown",
   "metadata": {},
   "source": [
    "------------------"
   ]
  },
  {
   "cell_type": "markdown",
   "metadata": {},
   "source": [
    "# OVERVIEW OF PART 4"
   ]
  },
  {
   "cell_type": "markdown",
   "metadata": {},
   "source": [
    "In this fourth part of the series, we will continue with getting increasingly hands on with prime numbers using the skills we've learn in [Part 1](https://nbviewer.jupyter.org/github/mikkokotila/jupyter4kids/blob/master/notebooks/numerical-computing-is-fun-1.ipynb), [Part 2](https://nbviewer.jupyter.org/github/mikkokotila/jupyter4kids/blob/master/notebooks/numerical-computing-is-fun-2.ipynb), and [Part 3](https://nbviewer.jupyter.org/github/mikkokotila/jupyter4kids/blob/master/notebooks/numerical-computing-is-fun-3.ipynb). In this part we will go ahead and take a big leap towards building \"computer programs\", using as an example a solution that looks for prime numbers within a range of numbers.\n",
    "\n",
    "Let's consider something of fundamental importance first; if **a number is a prime is much harder than saying that it's not**, we should build the opposite of prime number finder first, a non-prime finder. Then if everything goes well with that, we will be left with just the prime numbers in the end! :) Kind of like a sieve where we pour numbers through, and only primes come out. Actually this is exactly what the most basic prime seeking algorithm is called, a sieve algorithm."
   ]
  },
  {
   "cell_type": "markdown",
   "metadata": {},
   "source": [
    "<img align='left' src='https://images-na.ssl-images-amazon.com/images/I/41xyEdMszTL._SL500_.jpg'>"
   ]
  },
  {
   "cell_type": "markdown",
   "metadata": {},
   "source": [
    "# PART 4 : Building Algorithms"
   ]
  },
  {
   "cell_type": "markdown",
   "metadata": {},
   "source": [
    "#### Even though computer programmers don't always realize it, everything we do have something to do with algoritms. \n",
    "\n",
    "Next we will learn a few new concepts that will help us a great deal in the future, but we will also get more hands-on with the principles of algorithm building. In no time, you'll be building your own artificial intelligence algoritms! No kidding. That's where this series is going. There is no need why artificial intelligence development should not be accessible to all ages :)"
   ]
  },
  {
   "cell_type": "markdown",
   "metadata": {},
   "source": [
    "### 4.1. Every Problem Has Two Sides"
   ]
  },
  {
   "cell_type": "markdown",
   "metadata": {},
   "source": [
    "Generally speaking an output of a computer code is a True or False statement. Statement is just a fancy way of saying \"answer\" in this case. Indeed, with computers both questions and answers are treated as 'statements'; the computer never really knows if something is in fact a question, an assumption or an answer. As we had learn already, computers never make such discriminations, they just execute orders by processing fragments of code.\n",
    "\n",
    "Ok, time to get back to primes! In our case, we are interested in if a given number is a prime or not. It turns out that it's much easier to find out if a number is not a prime, than if it's a prime. We learn about this in the previous parts using the modulus operation. Let's see a couple of examples as a reminder.\n",
    "\n",
    "#### So what is modulus again? \n",
    "\n",
    "Modulus gives us the remainder of a division operation. That's all."
   ]
  },
  {
   "cell_type": "code",
   "execution_count": 1,
   "metadata": {},
   "outputs": [
    {
     "data": {
      "text/plain": [
       "0"
      ]
     },
     "execution_count": 1,
     "metadata": {},
     "output_type": "execute_result"
    }
   ],
   "source": [
    "4 % 2"
   ]
  },
  {
   "cell_type": "code",
   "execution_count": 2,
   "metadata": {},
   "outputs": [
    {
     "data": {
      "text/plain": [
       "0"
      ]
     },
     "execution_count": 2,
     "metadata": {},
     "output_type": "execute_result"
    }
   ],
   "source": [
    "8 % 2"
   ]
  },
  {
   "cell_type": "code",
   "execution_count": 3,
   "metadata": {},
   "outputs": [
    {
     "data": {
      "text/plain": [
       "0"
      ]
     },
     "execution_count": 3,
     "metadata": {},
     "output_type": "execute_result"
    }
   ],
   "source": [
    "16 % 2"
   ]
  },
  {
   "cell_type": "markdown",
   "metadata": {},
   "source": [
    "See, in each of these examples, it takes just one operation to confirm that a a given number is NOT a prime. Just to make sure modulus is completely clear, let's consider a few examples where there is a a remainder as a result of the division process."
   ]
  },
  {
   "cell_type": "code",
   "execution_count": 4,
   "metadata": {},
   "outputs": [
    {
     "data": {
      "text/plain": [
       "1"
      ]
     },
     "execution_count": 4,
     "metadata": {},
     "output_type": "execute_result"
    }
   ],
   "source": [
    "5 % 2"
   ]
  },
  {
   "cell_type": "code",
   "execution_count": 5,
   "metadata": {},
   "outputs": [
    {
     "data": {
      "text/plain": [
       "1"
      ]
     },
     "execution_count": 5,
     "metadata": {},
     "output_type": "execute_result"
    }
   ],
   "source": [
    "7 % 3"
   ]
  },
  {
   "cell_type": "code",
   "execution_count": 6,
   "metadata": {},
   "outputs": [
    {
     "data": {
      "text/plain": [
       "2"
      ]
     },
     "execution_count": 6,
     "metadata": {},
     "output_type": "execute_result"
    }
   ],
   "source": [
    "5 % 3"
   ]
  },
  {
   "cell_type": "markdown",
   "metadata": {},
   "source": [
    "Because there is always remainder, it also follows that we would not know for sure if the number is prime or not. Using what we already know about working with our own functions, let's create a simple function that simply states if a number is not a prime."
   ]
  },
  {
   "cell_type": "code",
   "execution_count": 7,
   "metadata": {},
   "outputs": [],
   "source": [
    "def not_prime(left, right):\n",
    "    \n",
    "    if left % right is 0:\n",
    "        \n",
    "        print('not a prime')"
   ]
  },
  {
   "cell_type": "code",
   "execution_count": 8,
   "metadata": {},
   "outputs": [
    {
     "name": "stdout",
     "output_type": "stream",
     "text": [
      "not a prime\n"
     ]
    }
   ],
   "source": [
    "not_prime(4, 2)"
   ]
  },
  {
   "cell_type": "code",
   "execution_count": 9,
   "metadata": {},
   "outputs": [
    {
     "name": "stdout",
     "output_type": "stream",
     "text": [
      "not a prime\n"
     ]
    }
   ],
   "source": [
    "not_prime(8, 2)"
   ]
  },
  {
   "cell_type": "markdown",
   "metadata": {},
   "source": [
    "As you might notice, this function really just takes the code from the examples above, and puts it in to a more complicated form, which is obviously not as useful. Unless we're planning to build further on it. Which we are. To illustrate how much harder it's to say for sure if a number is a prime, let's consider the example number 7."
   ]
  },
  {
   "cell_type": "code",
   "execution_count": 10,
   "metadata": {},
   "outputs": [
    {
     "data": {
      "text/plain": [
       "1"
      ]
     },
     "execution_count": 10,
     "metadata": {},
     "output_type": "execute_result"
    }
   ],
   "source": [
    "7 % 2"
   ]
  },
  {
   "cell_type": "code",
   "execution_count": 11,
   "metadata": {},
   "outputs": [
    {
     "data": {
      "text/plain": [
       "1"
      ]
     },
     "execution_count": 11,
     "metadata": {},
     "output_type": "execute_result"
    }
   ],
   "source": [
    "7 % 3"
   ]
  },
  {
   "cell_type": "code",
   "execution_count": 12,
   "metadata": {},
   "outputs": [
    {
     "data": {
      "text/plain": [
       "3"
      ]
     },
     "execution_count": 12,
     "metadata": {},
     "output_type": "execute_result"
    }
   ],
   "source": [
    "7 % 4"
   ]
  },
  {
   "cell_type": "code",
   "execution_count": 13,
   "metadata": {},
   "outputs": [
    {
     "data": {
      "text/plain": [
       "2"
      ]
     },
     "execution_count": 13,
     "metadata": {},
     "output_type": "execute_result"
    }
   ],
   "source": [
    "7 % 5"
   ]
  },
  {
   "cell_type": "code",
   "execution_count": 14,
   "metadata": {},
   "outputs": [
    {
     "data": {
      "text/plain": [
       "1"
      ]
     },
     "execution_count": 14,
     "metadata": {},
     "output_type": "execute_result"
    }
   ],
   "source": [
    "7 % 6"
   ]
  },
  {
   "cell_type": "markdown",
   "metadata": {},
   "source": [
    "We have to repeat the modulus function until we've tried every possible divisor first. In contrast to for example number 16, which is much bigger than 7, we have to work a lot harder to say that 7 is a prime, compared to saying that 16 is not. In fact, it often takes just one operation to confirm that a number is not a prime, but to confirm it is, we have to go through many options. Because we know for sure that a given number can not be divided to smaller than in to 2, then we don't need to waste our time with trying numbers that are more than half of the left value. For example... "
   ]
  },
  {
   "cell_type": "code",
   "execution_count": 15,
   "metadata": {},
   "outputs": [
    {
     "data": {
      "text/plain": [
       "1"
      ]
     },
     "execution_count": 15,
     "metadata": {},
     "output_type": "execute_result"
    }
   ],
   "source": [
    "# this makes sense \n",
    "7 % 3"
   ]
  },
  {
   "cell_type": "code",
   "execution_count": 16,
   "metadata": {},
   "outputs": [
    {
     "data": {
      "text/plain": [
       "3"
      ]
     },
     "execution_count": 16,
     "metadata": {},
     "output_type": "execute_result"
    }
   ],
   "source": [
    "# but this does not make sense\n",
    "7 % 4"
   ]
  },
  {
   "cell_type": "markdown",
   "metadata": {},
   "source": [
    "It makes no sense to try with 4, because it's more than half of the left value. This takes us to the first principle of creating and optimizing algorithms: \n",
    "\n",
    "**NEVER PROCESS WHAT YOU DON'T ABSOLUTELY HAVE TO**\n",
    "\n",
    "Best algoritms are such where we people first transfer our knowledge to the program (algorithm), and then let it do the part of the work that we can't, or that would take a really long time to do. Or would look like this:\n",
    "\n",
    "\n",
    "<img src='https://i.gifer.com/6nVo.gif' width=300 align=left>"
   ]
  },
  {
   "cell_type": "markdown",
   "metadata": {},
   "source": [
    "So great, the above insight means we can cut the work of the algorithm down to half with ever number. Let's make a note of this rule together with the two other rules we already know from the previous parts:\n",
    "\n",
    "- 1 should be always skipped because all numbers are divisible by 1\n",
    "- the number itself should be skipped because all numbers are divisible by itself \n",
    "- all numbers that are greater than half of the value should be skipped\n",
    "\n",
    "This takes us right back to boolean operators, remember...'is' and 'is not', and 'and' and 'or'. Wow, I think that was the first time I ever wrote a sentence with word 'and' three times in a row and still make sense. "
   ]
  },
  {
   "cell_type": "markdown",
   "metadata": {},
   "source": [
    "### 4.2. More Boolean Operators"
   ]
  },
  {
   "cell_type": "markdown",
   "metadata": {},
   "source": [
    "#### Let's get back to the heart of the matter...the language of computing machines. \n",
    "\n",
    "Let's pick off from where we left last time. Instead of just being able to say things like 'is' and 'is not', we can also use mathematical operators to build boolean statements. Let's see a few examples. "
   ]
  },
  {
   "cell_type": "code",
   "execution_count": 17,
   "metadata": {},
   "outputs": [
    {
     "data": {
      "text/plain": [
       "True"
      ]
     },
     "execution_count": 17,
     "metadata": {},
     "output_type": "execute_result"
    }
   ],
   "source": [
    "1 == 1"
   ]
  },
  {
   "cell_type": "markdown",
   "metadata": {},
   "source": [
    "Note how we used two '=' instead of one to say that something is something else. Remember how a single '=' is used for loading things in to a variable. That's part of the reason, but there is also another reason, which has to do with how we can combine '=' with '!', '<', and '>'.\n",
    "\n",
    "### == \n",
    "is equal to (same as is)\n",
    "\n",
    "### <= \n",
    "is equal or less than\n",
    "\n",
    "### >= \n",
    "is equal or greater than\n",
    "\n",
    "### != \n",
    "is not equal (same as is not)\n",
    "\n",
    "### < \n",
    "is less than\n",
    "\n",
    "### > \n",
    "is greater than"
   ]
  },
  {
   "cell_type": "code",
   "execution_count": 18,
   "metadata": {},
   "outputs": [
    {
     "data": {
      "text/plain": [
       "True"
      ]
     },
     "execution_count": 18,
     "metadata": {},
     "output_type": "execute_result"
    }
   ],
   "source": [
    "# 2 is greater than 1\n",
    "2 > 1"
   ]
  },
  {
   "cell_type": "code",
   "execution_count": 19,
   "metadata": {},
   "outputs": [
    {
     "data": {
      "text/plain": [
       "True"
      ]
     },
     "execution_count": 19,
     "metadata": {},
     "output_type": "execute_result"
    }
   ],
   "source": [
    "# 15 is lesser than 30\n",
    "15 < 30"
   ]
  },
  {
   "cell_type": "code",
   "execution_count": 20,
   "metadata": {},
   "outputs": [
    {
     "data": {
      "text/plain": [
       "True"
      ]
     },
     "execution_count": 20,
     "metadata": {},
     "output_type": "execute_result"
    }
   ],
   "source": [
    "# 15 is not 30\n",
    "15 != 30"
   ]
  },
  {
   "cell_type": "code",
   "execution_count": 21,
   "metadata": {},
   "outputs": [
    {
     "data": {
      "text/plain": [
       "False"
      ]
     },
     "execution_count": 21,
     "metadata": {},
     "output_type": "execute_result"
    }
   ],
   "source": [
    "# 15 is greater than 15\n",
    "15 > 15"
   ]
  },
  {
   "cell_type": "code",
   "execution_count": 22,
   "metadata": {},
   "outputs": [
    {
     "data": {
      "text/plain": [
       "True"
      ]
     },
     "execution_count": 22,
     "metadata": {},
     "output_type": "execute_result"
    }
   ],
   "source": [
    "# 15 is greater than or equal to 15\n",
    "15 >= 15"
   ]
  },
  {
   "cell_type": "markdown",
   "metadata": {},
   "source": [
    "As usual, things are very obvious here. In case you are wondering whatsup with the obvious examples, it is to avoid any doubt in your part. You can be completely clear about what it is that is happening, which would not be the case with some less obvious examples. \n",
    "\n",
    "That's what boolean logic and boolean statements, the language of boolean logic, is about, clarity. Now let's apply this to modify our algo from [Part 3](https://nbviewer.jupyter.org/github/mikkokotila/jupyter4kids/blob/master/notebooks/numerical-computing-is-fun-3.ipynb) in a way that incorporates the new rule we had identified, we should not waste time by checking numbers that are greater than half of the value (left number)."
   ]
  },
  {
   "cell_type": "code",
   "execution_count": 23,
   "metadata": {},
   "outputs": [],
   "source": [
    "def algo_v009(left):  # <-- changed\n",
    "\n",
    "    right_numbers = range(2, left - 1)\n",
    "    output = 0\n",
    "    \n",
    "    for right in right_numbers:\n",
    "        result = left % right\n",
    "\n",
    "        if result is 0:         \n",
    "            output += 1\n",
    "            \n",
    "    return output is 0"
   ]
  },
  {
   "cell_type": "markdown",
   "metadata": {},
   "source": [
    "As you may note, I've also made a change in the naming of the function. Now it's something more familiar to programming, instead of stating the version in letter, we have a version number, sort of a code, that keeps track of improvements as we make them. Let's go ahead and add the new functionality, but first let's remind ourselves with how the current version works:\n",
    "\n",
    "- we input one number which becomes the left value\n",
    "- the right values come from a range of numbers\n",
    "- the range of numbers starts from 2 (to avoid 1) \n",
    "- the range of numbers ends 1 number before the left value\n",
    "- as an output we get either True or False"
   ]
  },
  {
   "cell_type": "code",
   "execution_count": 24,
   "metadata": {},
   "outputs": [
    {
     "data": {
      "text/plain": [
       "False"
      ]
     },
     "execution_count": 24,
     "metadata": {},
     "output_type": "execute_result"
    }
   ],
   "source": [
    "algo_v009(8)"
   ]
  },
  {
   "cell_type": "code",
   "execution_count": 25,
   "metadata": {},
   "outputs": [
    {
     "data": {
      "text/plain": [
       "True"
      ]
     },
     "execution_count": 25,
     "metadata": {},
     "output_type": "execute_result"
    }
   ],
   "source": [
    "algo_v009(11)"
   ]
  },
  {
   "cell_type": "code",
   "execution_count": 26,
   "metadata": {},
   "outputs": [
    {
     "data": {
      "text/plain": [
       "True"
      ]
     },
     "execution_count": 26,
     "metadata": {},
     "output_type": "execute_result"
    }
   ],
   "source": [
    "algo_v009(17)"
   ]
  },
  {
   "cell_type": "markdown",
   "metadata": {},
   "source": [
    "That's great, everything seems to be working as expected, so let's go ahead and make the change."
   ]
  },
  {
   "cell_type": "code",
   "execution_count": 35,
   "metadata": {},
   "outputs": [],
   "source": [
    "def algo_v010(left):\n",
    "    \n",
    "    left_half  = int(left / 2) # <-- changed\n",
    "\n",
    "    right_numbers = range(2, left_half) # <-- changed\n",
    "    output = 0\n",
    "    \n",
    "    for right in right_numbers:\n",
    "        result = left % right\n",
    "\n",
    "        if result is 0:         \n",
    "            output += 1\n",
    "            \n",
    "    return output is 0  "
   ]
  },
  {
   "cell_type": "code",
   "execution_count": 36,
   "metadata": {},
   "outputs": [
    {
     "data": {
      "text/plain": [
       "False"
      ]
     },
     "execution_count": 36,
     "metadata": {},
     "output_type": "execute_result"
    }
   ],
   "source": [
    "algo_v010(8)"
   ]
  },
  {
   "cell_type": "code",
   "execution_count": 37,
   "metadata": {},
   "outputs": [
    {
     "data": {
      "text/plain": [
       "True"
      ]
     },
     "execution_count": 37,
     "metadata": {},
     "output_type": "execute_result"
    }
   ],
   "source": [
    "algo_v010(7)"
   ]
  },
  {
   "cell_type": "code",
   "execution_count": 38,
   "metadata": {},
   "outputs": [
    {
     "data": {
      "text/plain": [
       "False"
      ]
     },
     "execution_count": 38,
     "metadata": {},
     "output_type": "execute_result"
    }
   ],
   "source": [
    "algo_v010(88)"
   ]
  },
  {
   "cell_type": "markdown",
   "metadata": {},
   "source": [
    "That's good, we've cut down to half the job that our algoritm needs to do and only had to change a very small part of our code. Also we did not have to add any complexity to it. The only thing that changed, was that instead of subtracting 1, we now divide with 2. You're starting to learn the basic principle of algorithms. Let's move on and step it up it a notch. But before we move on, let's time the difference between the two version of the algorithm using exact same input. Below you will learn more about 'timing' as a measure of performance. "
   ]
  },
  {
   "cell_type": "code",
   "execution_count": 39,
   "metadata": {},
   "outputs": [
    {
     "name": "stdout",
     "output_type": "stream",
     "text": [
      "28.5 µs ± 3.33 µs per loop (mean ± std. dev. of 7 runs, 100000 loops each)\n"
     ]
    }
   ],
   "source": [
    "# the version without change\n",
    "%timeit algo_v009(97)"
   ]
  },
  {
   "cell_type": "code",
   "execution_count": 40,
   "metadata": {},
   "outputs": [
    {
     "name": "stdout",
     "output_type": "stream",
     "text": [
      "17.7 µs ± 977 ns per loop (mean ± std. dev. of 7 runs, 100000 loops each)\n"
     ]
    }
   ],
   "source": [
    "# the version with the change\n",
    "%timeit algo_v010(97)"
   ]
  },
  {
   "cell_type": "markdown",
   "metadata": {},
   "source": [
    "As you can see, now we get as output the time it takes to run the process to completion. Not only the improved version is two times faster. Let's try the same with a much bigger input value (much more computation). "
   ]
  },
  {
   "cell_type": "code",
   "execution_count": 41,
   "metadata": {},
   "outputs": [
    {
     "name": "stdout",
     "output_type": "stream",
     "text": [
      "5.14 ms ± 1.16 ms per loop (mean ± std. dev. of 7 runs, 100 loops each)\n"
     ]
    }
   ],
   "source": [
    "# the version without change\n",
    "%timeit algo_v009(10923)"
   ]
  },
  {
   "cell_type": "code",
   "execution_count": 42,
   "metadata": {},
   "outputs": [
    {
     "name": "stdout",
     "output_type": "stream",
     "text": [
      "1.79 ms ± 404 µs per loop (mean ± std. dev. of 7 runs, 100 loops each)\n"
     ]
    }
   ],
   "source": [
    "# the version without change\n",
    "%timeit algo_v010(10923)"
   ]
  },
  {
   "cell_type": "markdown",
   "metadata": {},
   "source": [
    "Now we can see that it is more or less exactly two times faster than the previous version, which is expected as we are doing more or less two times less processing! If you learn to build algoritms like this from the groundup, they will end up being really effective. Once you have a lot of code that is already doing it's job, it's generally much harder to start optimizing it. "
   ]
  },
  {
   "cell_type": "markdown",
   "metadata": {},
   "source": [
    "### 4.3. Algorithm Design"
   ]
  },
  {
   "cell_type": "markdown",
   "metadata": {},
   "source": [
    "The most common mistake programmers make with algorithms, is that they don't take the time to make it very clear what they want the algorithm to do. This can lead to many problems later, so we really don't want to do that. Because the computer will only do what we instruct it to do, it's important that we give it great intructions to start with. Like driving a car you have to tell the car exactly where to go and what to do.\n",
    "\n",
    "As the next step, would it not be great if we could cut off another half from the work our algo needs to do? Well turns out that there is something really obvious for us humans, that a computer would never know by itself."
   ]
  },
  {
   "cell_type": "markdown",
   "metadata": {},
   "source": [
    "**\"Every even number is always divisible with at least 2\"**"
   ]
  },
  {
   "cell_type": "markdown",
   "metadata": {},
   "source": [
    "For us this is common sense. We know definitely that any number that ends with 2,4,6,8 or 0, can always be divided with at least 2. There goes another half of the work, let's update our list of rules. \n",
    "\n",
    "- 1 should be always skipped because all numbers are divisible by 1\n",
    "- the number itself should be skipped because all numbers are divisible by itself \n",
    "- all numbers that are greater than half of the value should be skipped\n",
    "- every even number should be skipped because they are always divisible by at least 2\n",
    "\n",
    "Let's make the change to our algo. This time it will be a little trickier, but this is well within what you've already learn. One way of doing it would be to just going to add a step where we use modulus operation to check if the number is divisible by 2 or not. Another would be where we actually check the last digit in the input and see if it's one of the even numbers. Turns out, there is a much simpler way to do this just slightly changing the way we are using range(). Remember the 'step' parameter? That's a perfect solution for this! \n",
    "\n",
    "Gerenally speaking it's always better to get more out of the code you already have, using the functions you are already using, as opposed to adding new ones. This is not always true, but for now you can assume that as a rule of thumb. "
   ]
  },
  {
   "cell_type": "code",
   "execution_count": 43,
   "metadata": {},
   "outputs": [
    {
     "data": {
      "text/plain": [
       "range(2, 10)"
      ]
     },
     "execution_count": 43,
     "metadata": {},
     "output_type": "execute_result"
    }
   ],
   "source": [
    "range(2,10)"
   ]
  },
  {
   "cell_type": "code",
   "execution_count": 44,
   "metadata": {},
   "outputs": [
    {
     "data": {
      "text/plain": [
       "range(3, 10, 2)"
      ]
     },
     "execution_count": 44,
     "metadata": {},
     "output_type": "execute_result"
    }
   ],
   "source": [
    "range(3,10,2)"
   ]
  },
  {
   "cell_type": "markdown",
   "metadata": {},
   "source": [
    "It's that easy! :) We just have to add one number to our function, and we get the result we're looking for. Again, almost nothing is changing, but our algo will have to work just half of the workload. The two above examples highlight an important part of the process of creating algoritms. You always want to try just the change separately from the rest of the code before you make any actual changes. We now know what we have to do, so let's go ahead and make the change."
   ]
  },
  {
   "cell_type": "code",
   "execution_count": 45,
   "metadata": {},
   "outputs": [],
   "source": [
    "def algo_v011(left):\n",
    "\n",
    "    left_half  = int(left / 2)\n",
    "\n",
    "    right_numbers = range(2, left_half, 2) # <-- changed\n",
    "    output = 0\n",
    "    \n",
    "    for right in right_numbers:\n",
    "        result = left % right\n",
    "\n",
    "        if result is 0:         \n",
    "            output += 1\n",
    "            \n",
    "    return output is 0"
   ]
  },
  {
   "cell_type": "code",
   "execution_count": 46,
   "metadata": {},
   "outputs": [
    {
     "data": {
      "text/plain": [
       "True"
      ]
     },
     "execution_count": 46,
     "metadata": {},
     "output_type": "execute_result"
    }
   ],
   "source": [
    "algo_v011(7)"
   ]
  },
  {
   "cell_type": "code",
   "execution_count": 47,
   "metadata": {},
   "outputs": [
    {
     "data": {
      "text/plain": [
       "False"
      ]
     },
     "execution_count": 47,
     "metadata": {},
     "output_type": "execute_result"
    }
   ],
   "source": [
    "algo_v011(128)"
   ]
  },
  {
   "cell_type": "markdown",
   "metadata": {},
   "source": [
    "As I had already mentioned above, one of the most important concerns related with building algoritms is related with how troublesome it is for the computer to perform the process we are asking it to do. Timing is a very useful way to test how much the computer has to work in order to perform a certain operations. \n",
    "\n",
    "There is a function called 'timeit' to do what we want. Let's see how it works."
   ]
  },
  {
   "cell_type": "code",
   "execution_count": 48,
   "metadata": {},
   "outputs": [
    {
     "name": "stdout",
     "output_type": "stream",
     "text": [
      "84.8 ns ± 20 ns per loop (mean ± std. dev. of 7 runs, 10000000 loops each)\n"
     ]
    }
   ],
   "source": [
    "%timeit 1 + 1"
   ]
  },
  {
   "cell_type": "markdown",
   "metadata": {},
   "source": [
    "Wow, that is really fast. It's not everyday that we come by with nanosecond as a time measurement for something :) Let's try the same with the last few version of our algo. "
   ]
  },
  {
   "cell_type": "code",
   "execution_count": 49,
   "metadata": {},
   "outputs": [
    {
     "name": "stdout",
     "output_type": "stream",
     "text": [
      "164 µs ± 37.7 µs per loop (mean ± std. dev. of 7 runs, 10000 loops each)\n"
     ]
    }
   ],
   "source": [
    "%timeit algo_v009(511)"
   ]
  },
  {
   "cell_type": "code",
   "execution_count": 50,
   "metadata": {},
   "outputs": [
    {
     "name": "stdout",
     "output_type": "stream",
     "text": [
      "71.1 µs ± 13 µs per loop (mean ± std. dev. of 7 runs, 10000 loops each)\n"
     ]
    }
   ],
   "source": [
    "%timeit algo_v010(511)"
   ]
  },
  {
   "cell_type": "code",
   "execution_count": 51,
   "metadata": {},
   "outputs": [
    {
     "name": "stdout",
     "output_type": "stream",
     "text": [
      "35 µs ± 9.35 µs per loop (mean ± std. dev. of 7 runs, 10000 loops each)\n"
     ]
    }
   ],
   "source": [
    "%timeit algo_v011(511)"
   ]
  },
  {
   "cell_type": "markdown",
   "metadata": {},
   "source": [
    "See, there is a big leap in terms of performance between v009 and v011, more than 4x times faster! That is a direct result of the algo having to work less. The last change we made did not make things faster though. At this point it's not so important why, but it's very valuable to understand the concept of 'profiling' algoritm, as we had just done. There are four scales of time that are relevant here:\n",
    "\n",
    "- seconds (s)\n",
    "- milliseconds (ms) > 1,000 seconds\n",
    "- microseconds (µs) > 1,000 milliseconds\n",
    "- nanoseconds (ns) > 1,000 microseconds\n",
    "\n",
    "Nanosecond is very small unit of time. In one second there are 1 billion nanoseconds! Generally computers can't do nothing much below 20 nanoseconds, so that is the speed we're trying to get close to with our algoritms. "
   ]
  },
  {
   "cell_type": "markdown",
   "metadata": {},
   "source": [
    "Before wrapping up this part, let's introduce a new concept ...'the bug'."
   ]
  },
  {
   "cell_type": "markdown",
   "metadata": {},
   "source": [
    "### 4.4. Bugs"
   ]
  },
  {
   "cell_type": "markdown",
   "metadata": {},
   "source": [
    "You might have heard about bugs in computer programs. Well, it turns out that the name comes from the time when computers were made of glass tubes, and actual bugs could break them by flying in to the glass tubes. Here is a picture of the first recorded computer bug..."
   ]
  },
  {
   "cell_type": "markdown",
   "metadata": {},
   "source": [
    "<img align='left' width='600px' src='http://ids.si.edu/ids/deliveryService?id=NMAH-92-13130'>"
   ]
  },
  {
   "cell_type": "markdown",
   "metadata": {},
   "source": [
    "I happen to know that there is one (at least) problem with our code. The below examples will illustrate it: "
   ]
  },
  {
   "cell_type": "code",
   "execution_count": 52,
   "metadata": {},
   "outputs": [
    {
     "data": {
      "text/plain": [
       "False"
      ]
     },
     "execution_count": 52,
     "metadata": {},
     "output_type": "execute_result"
    }
   ],
   "source": [
    "algo_v009(4)"
   ]
  },
  {
   "cell_type": "code",
   "execution_count": 53,
   "metadata": {},
   "outputs": [
    {
     "data": {
      "text/plain": [
       "True"
      ]
     },
     "execution_count": 53,
     "metadata": {},
     "output_type": "execute_result"
    }
   ],
   "source": [
    "algo_v010(4)"
   ]
  },
  {
   "cell_type": "code",
   "execution_count": 54,
   "metadata": {},
   "outputs": [
    {
     "data": {
      "text/plain": [
       "True"
      ]
     },
     "execution_count": 54,
     "metadata": {},
     "output_type": "execute_result"
    }
   ],
   "source": [
    "algo_v011(4)"
   ]
  },
  {
   "cell_type": "markdown",
   "metadata": {},
   "source": [
    "We know that 4 is definitely not a prime, so how come our latest versions are saying that it is. This kind of result is an example of a bug in our code. Not a real bug like a fly, but a mistake that we've made somewhere along the way. Don't worry, this is quite common and is part of the process. The important thing is to not miss them. Let's see what changed between v009 and v010 and maybe we can identify the bug."
   ]
  },
  {
   "cell_type": "code",
   "execution_count": 55,
   "metadata": {},
   "outputs": [],
   "source": [
    "def algo_v010(left):\n",
    "\n",
    "    right_numbers = range(2, int(left / 2)) # <-- changed\n",
    "    output = 0\n",
    "    \n",
    "    for right in right_numbers:\n",
    "        result = left % right\n",
    "\n",
    "        if result is 0:         \n",
    "            output += 1\n",
    "            \n",
    "    return output is 0  "
   ]
  },
  {
   "cell_type": "markdown",
   "metadata": {},
   "source": [
    "When looking for bugs, it's better to take out the line of code we think is causing the issue. Because we are not passing the argument 'left' in the function, we have to define it separately. Because the bug revealed itself when 'left' is 4, let's start with that."
   ]
  },
  {
   "cell_type": "code",
   "execution_count": 26,
   "metadata": {},
   "outputs": [],
   "source": [
    "left = 4"
   ]
  },
  {
   "cell_type": "code",
   "execution_count": 27,
   "metadata": {},
   "outputs": [
    {
     "name": "stdout",
     "output_type": "stream",
     "text": [
      "[2]\n"
     ]
    }
   ],
   "source": [
    "# the v009 version that still works\n",
    "right_numbers = range(2, left - 1)\n",
    "print right_numbers"
   ]
  },
  {
   "cell_type": "code",
   "execution_count": 28,
   "metadata": {},
   "outputs": [
    {
     "name": "stdout",
     "output_type": "stream",
     "text": [
      "[]\n"
     ]
    }
   ],
   "source": [
    "# the v010 version that has a bug\n",
    "right_numbers = range(2, left / 2)\n",
    "print right_numbers"
   ]
  },
  {
   "cell_type": "markdown",
   "metadata": {},
   "source": [
    "Ah, that makes sense. Because we are first dividing by 2, the range starts from 2 and then ends in two. Obviously that will not work and the algo has nothing to do, so the output is 0 and the algo thinks it's a prime. For now, because we know 4 is not a prime, we ignore this and move on. Case closed.\n",
    "\n",
    "Try to keep in mind that bugs are not always obvious, and actually mostly they are not. If I had to make a guess if we have some bugs in the current code that have not come out yet, I'd say that's very much possible (if not outright likely). "
   ]
  },
  {
   "cell_type": "markdown",
   "metadata": {
    "collapsed": true
   },
   "source": [
    "### Part 4 Summary\n",
    "\n",
    "- Problems generally have two sides, one easier than other\n",
    "- With prime numbers, it's easy to find non-primes, but not so easy to find primes\n",
    "- Computers can not think at all, they just compute\n",
    "- The more we create rules for the computer, the better it can do its job\n",
    "- It's possible to make computer code run much faster even with very small changes\n",
    "- %timeit is a nifty utility for measuring how fast our code runs\n",
    "- Bugs can slip in to our code, and our job is to find them and kick them out \n",
    "- Sometimes it's ok to let bugs stay in, as long as we know exactly what they do\n",
    "- Numbers theory (like prime numbers stuff) is super interesting!"
   ]
  },
  {
   "cell_type": "markdown",
   "metadata": {},
   "source": [
    "That's it, another part in the bag. In case you feel that we're going too slow or fast, don't worry, both is totally fine. If you think that we're going too slow, very soon you will understand why, and be pleasantly surprised with how you are able to do seemingly difficult things using very easy to understand code. If you think that we're going too fast, don't worry, it will all come crystall clear during the next few parts :)\n",
    "\n",
    "**GREAT JOB!!! SEE YOU IN THE NEXT PART/NOTEBOOK :)**"
   ]
  },
  {
   "cell_type": "markdown",
   "metadata": {
    "collapsed": true
   },
   "source": [
    "<img align='left' src='https://upload.wikimedia.org/wikipedia/commons/3/34/Papukaijamerkki.png'>\n",
    "\n"
   ]
  }
 ],
 "metadata": {
  "kernelspec": {
   "display_name": "Python 3",
   "language": "python",
   "name": "python3"
  },
  "language_info": {
   "codemirror_mode": {
    "name": "ipython",
    "version": 3
   },
   "file_extension": ".py",
   "mimetype": "text/x-python",
   "name": "python",
   "nbconvert_exporter": "python",
   "pygments_lexer": "ipython3",
   "version": "3.6.5"
  }
 },
 "nbformat": 4,
 "nbformat_minor": 1
}
