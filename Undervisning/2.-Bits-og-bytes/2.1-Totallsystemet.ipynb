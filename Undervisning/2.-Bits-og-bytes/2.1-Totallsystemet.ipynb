{
 "cells": [
  {
   "cell_type": "markdown",
   "metadata": {},
   "source": [
    "## 2.1 Tallsystemet"
   ]
  },
  {
   "cell_type": "markdown",
   "metadata": {},
   "source": [
    "#### Totall til titall\n"
   ]
  },
  {
   "cell_type": "code",
   "execution_count": 99,
   "metadata": {},
   "outputs": [
    {
     "name": "stdout",
     "output_type": "stream",
     "text": [
      "1001_2 = 9_10\n"
     ]
    }
   ],
   "source": [
    "totall = '1001'\n",
    "titall = 0\n",
    "for n in range(len(totall)):\n",
    "    c = int(totall[n])\n",
    "    b = 2\n",
    "    k = len(totall)-1\n",
    "    titall += c * b ** (k-n)\n",
    "    \n",
    "print(f'{totall}_2 = {titall}_10')"
   ]
  },
  {
   "cell_type": "markdown",
   "metadata": {},
   "source": [
    "#### Titall til totall"
   ]
  },
  {
   "cell_type": "code",
   "execution_count": 103,
   "metadata": {},
   "outputs": [
    {
     "name": "stdout",
     "output_type": "stream",
     "text": [
      "33_10 = 100001_2\n"
     ]
    }
   ],
   "source": [
    "titall = '33'\n",
    "x = int(titall)\n",
    "n = 0\n",
    "while 2**n <= x:\n",
    "    n+=1\n",
    "\n",
    "n = n - 1\n",
    "totall = '1'\n",
    "x = x - 2 ** (n)\n",
    "\n",
    "n = n - 1\n",
    "while n >= 0:\n",
    "    if x >= 2 ** (n):  \n",
    "        totall += '1'\n",
    "        x = x -2 ** (n)\n",
    "    else:\n",
    "        totall += '0'\n",
    "    \n",
    "    n = n - 1\n",
    "\n",
    "print(f'{titall}_10 = {totall}_2')"
   ]
  },
  {
   "cell_type": "code",
   "execution_count": null,
   "metadata": {},
   "outputs": [],
   "source": []
  }
 ],
 "metadata": {
  "kernelspec": {
   "display_name": "Python 3",
   "language": "python",
   "name": "python3"
  },
  "language_info": {
   "codemirror_mode": {
    "name": "ipython",
    "version": 3
   },
   "file_extension": ".py",
   "mimetype": "text/x-python",
   "name": "python",
   "nbconvert_exporter": "python",
   "pygments_lexer": "ipython3",
   "version": "3.6.6"
  }
 },
 "nbformat": 4,
 "nbformat_minor": 2
}
