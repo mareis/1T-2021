{
 "cells": [
  {
   "cell_type": "markdown",
   "metadata": {
    "pycharm": {}
   },
   "source": [
    "# Løkker\n",
    "\n",
    "\n",
    "**I programmering har vi ofte behov for å gjenta kode mange ganger. For å få til dette bruker man løkker. Løkker har mye til felles med tester, men med den forskjellen at i en løkke gjentas kode intill en betingelse er sann eller usann.**\n",
    "\n",
    "Det finnes to hovedtyper løkker - for-løkker og while-løkker:\n",
    "\n",
    "+ **for** - Gjentar kode et gitt antall ganger\n",
    "+ **while** - Gjentar kode sålenge en betingelse er sann\n",
    "\n",
    "## For-løkker\n",
    "\n",
    "I en for-løkke bestemmer vi hvor mange ganger en kode skal gjentas. Alt dette gjøres i deklarasjonen av løkka. Legg spesielt merke til kommandoen [_range()_](https://docs.python.org/3/library/stdtypes.html#range).\n",
    "\n",
    "### Eksempel 1"
   ]
  },
  {
   "cell_type": "code",
   "execution_count": 5,
   "metadata": {
    "pycharm": {
     "is_executing": false
    }
   },
   "outputs": [
    {
     "name": "stdout",
     "output_type": "stream",
     "text": [
      "Tellevariabelen tall har nå verdien 0\n",
      "Tellevariabelen tall har nå verdien 1\n",
      "Tellevariabelen tall har nå verdien 2\n",
      "Tellevariabelen tall har nå verdien 3\n",
      "Tellevariabelen tall har nå verdien 4\n",
      "Tellevariabelen tall har nå verdien 5\n",
      "Tellevariabelen tall har nå verdien 6\n",
      "Tellevariabelen tall har nå verdien 7\n",
      "Tellevariabelen tall har nå verdien 8\n",
      "Tellevariabelen tall har nå verdien 9\n"
     ]
    }
   ],
   "source": [
    "for tall in range(10):\n",
    "    print(\"Tellevariabelen tall har nå verdien\", tall)"
   ]
  },
  {
   "cell_type": "code",
   "execution_count": 11,
   "metadata": {},
   "outputs": [
    {
     "name": "stdout",
     "output_type": "stream",
     "text": [
      "Det var ikke C i navnet\n"
     ]
    }
   ],
   "source": [
    "navn = 'ADA LOVELASE'\n",
    "len(navn)\n",
    "funnet = False\n",
    "for bokstav in navn:\n",
    "    if bokstav == 'C':\n",
    "        print(bokstav)\n",
    "        funnet = True\n",
    "\n",
    "if not(funnet):\n",
    "    print('Det var ikke C i navnet');"
   ]
  },
  {
   "cell_type": "markdown",
   "metadata": {
    "pycharm": {}
   },
   "source": [
    "### Underveisoppgave\n",
    "Lag en løkke som skriver ut navnet ditt 5 ganger"
   ]
  },
  {
   "cell_type": "code",
   "execution_count": 5,
   "metadata": {
    "pycharm": {
     "is_executing": false
    }
   },
   "outputs": [],
   "source": [
    "# koden din her\n"
   ]
  },
  {
   "cell_type": "markdown",
   "metadata": {
    "pycharm": {}
   },
   "source": [
    "## for in\n",
    "\n",
    "En annen variant av for-løkker er _for in_. Denne er veldig nyttig når man skal traversere alle elementene i en [liste](https://developers.google.com/edu/python/lists) eller andre kolleksjoner av variabler.\n",
    "\n",
    "### Eksempel 2"
   ]
  },
  {
   "cell_type": "code",
   "execution_count": 6,
   "metadata": {
    "pycharm": {
     "is_executing": false
    }
   },
   "outputs": [
    {
     "name": "stdout",
     "output_type": "stream",
     "text": [
      "Nå skriver vi ut: H\n",
      "Nå skriver vi ut: a\n",
      "Nå skriver vi ut: l\n",
      "Nå skriver vi ut: l\n",
      "Nå skriver vi ut: o\n",
      "Nå skriver vi ut:  \n",
      "Nå skriver vi ut: v\n",
      "Nå skriver vi ut: e\n",
      "Nå skriver vi ut: r\n",
      "Nå skriver vi ut: d\n",
      "Nå skriver vi ut: e\n",
      "Nå skriver vi ut: n\n",
      "Nå skriver vi ut: !\n"
     ]
    }
   ],
   "source": [
    "tekst = 'Hallo verden!'\n",
    "for tegn in tekst:\n",
    "    print(f'Nå skriver vi ut: {tegn}')"
   ]
  },
  {
   "cell_type": "markdown",
   "metadata": {
    "pycharm": {}
   },
   "source": [
    "### Eksempel 3"
   ]
  },
  {
   "cell_type": "code",
   "execution_count": 13,
   "metadata": {
    "pycharm": {
     "is_executing": false
    }
   },
   "outputs": [
    {
     "name": "stdout",
     "output_type": "stream",
     "text": [
      "1\n",
      "3\n",
      "5\n",
      "7\n",
      "9\n"
     ]
    }
   ],
   "source": [
    "#range(fra, til, steglengde)\n",
    "for i in range(1, 10, 2):\n",
    "    print(i)"
   ]
  },
  {
   "cell_type": "markdown",
   "metadata": {
    "pycharm": {}
   },
   "source": [
    "### Underveisoppgaver\n",
    "1. Lag en for-løkke som teller fra 0 til 20."
   ]
  },
  {
   "cell_type": "code",
   "execution_count": 7,
   "metadata": {
    "pycharm": {
     "is_executing": false
    }
   },
   "outputs": [],
   "source": []
  },
  {
   "cell_type": "markdown",
   "metadata": {
    "pycharm": {}
   },
   "source": [
    "2. Lag en for-løkke som teller fra 10 til 1."
   ]
  },
  {
   "cell_type": "code",
   "execution_count": null,
   "metadata": {
    "pycharm": {}
   },
   "outputs": [],
   "source": []
  },
  {
   "cell_type": "markdown",
   "metadata": {
    "pycharm": {}
   },
   "source": [
    "3. Lag en for-løkke som teller annenhvert tall fra 10 til 50."
   ]
  },
  {
   "cell_type": "code",
   "execution_count": null,
   "metadata": {
    "pycharm": {}
   },
   "outputs": [],
   "source": []
  },
  {
   "cell_type": "markdown",
   "metadata": {},
   "source": [
    " 4. Lag en funksjon som returnerer en en kvadrat av * med sidelengde som det samme som argumentet du gir funksjonen.\n",
    " \n",
    " \n"
   ]
  },
  {
   "cell_type": "code",
   "execution_count": 15,
   "metadata": {},
   "outputs": [],
   "source": [
    "# lag_kvadrat(3) skal returnere\n",
    "# * * * \n",
    "# * * *\n",
    "# * * *\n"
   ]
  },
  {
   "cell_type": "markdown",
   "metadata": {},
   "source": [
    " 5. Lag en funksjon som skriver ut en pyramide med høyde lik som argumentet du gir funksjonen."
   ]
  },
  {
   "cell_type": "code",
   "execution_count": 16,
   "metadata": {},
   "outputs": [],
   "source": [
    "# lag_pyramide(3) skal returnere\n",
    "#   *  \n",
    "#  * * \n",
    "# * * *"
   ]
  },
  {
   "cell_type": "code",
   "execution_count": null,
   "metadata": {},
   "outputs": [],
   "source": []
  },
  {
   "cell_type": "markdown",
   "metadata": {
    "pycharm": {}
   },
   "source": [
    "### Eksempel 4\n",
    "\n",
    "$$\\sum_{n=1}^5 (5n - 4)$$\n",
    "\n",
    "Lag en for-løkke som løser summen over."
   ]
  },
  {
   "cell_type": "code",
   "execution_count": 8,
   "metadata": {
    "pycharm": {
     "is_executing": false
    }
   },
   "outputs": [
    {
     "name": "stdout",
     "output_type": "stream",
     "text": [
      "Summen er 55\n"
     ]
    }
   ],
   "source": [
    "N = 5\n",
    "sum = 0\n",
    "for n in range(1,N+1):\n",
    "    sum += 5*n - 4\n",
    "    #print(sum)\n",
    "    \n",
    "print(f'Summen er {sum}')"
   ]
  },
  {
   "cell_type": "markdown",
   "metadata": {
    "pycharm": {}
   },
   "source": [
    "### Underveisoppgaver\n",
    "\n",
    "1. \n",
    "\n",
    "$$\\sum_{x=3}^6 (x^2 - 2^x)$$\n",
    "\n",
    "Lag en for-løkke som løser summen over."
   ]
  },
  {
   "cell_type": "code",
   "execution_count": 7,
   "metadata": {
    "pycharm": {}
   },
   "outputs": [],
   "source": [
    "# koden din her"
   ]
  },
  {
   "cell_type": "markdown",
   "metadata": {
    "pycharm": {}
   },
   "source": [
    "2. \n",
    "$$1+\\frac23+\\frac49+\\frac{8}{27}+...$$\n",
    "\n",
    "Bestem en tilnærming til den geometriske reken over ved hjelp av en løkke"
   ]
  },
  {
   "cell_type": "code",
   "execution_count": 8,
   "metadata": {
    "pycharm": {}
   },
   "outputs": [],
   "source": [
    "# koden din her"
   ]
  },
  {
   "cell_type": "markdown",
   "metadata": {
    "pycharm": {}
   },
   "source": [
    "### Eksempel 5\n",
    "\n",
    "$$N! = \\prod_{n=1}^N n$$\n",
    "\n",
    "Lag en funksjon som returnerer fakultetet til tallet"
   ]
  },
  {
   "cell_type": "code",
   "execution_count": 9,
   "metadata": {
    "pycharm": {}
   },
   "outputs": [
    {
     "name": "stdout",
     "output_type": "stream",
     "text": [
      "5! = 120\n"
     ]
    }
   ],
   "source": [
    "def fakultet(N):\n",
    "    produkt = 1\n",
    "    for n in range(1, N+1):\n",
    "        produkt *= n\n",
    "    return produkt\n",
    "\n",
    "N = 5\n",
    "print(f'{N}! = {fakultet(N)}')"
   ]
  },
  {
   "cell_type": "markdown",
   "metadata": {
    "pycharm": {}
   },
   "source": [
    "#### Underveisoppgave\n",
    "\n",
    "Wallis produkt for π ble skrevet ned i 1655 av John Wallis.\n",
    "\n",
    "$$\\frac{\\pi}{2} = \\prod_{n=1}^{\\infty} \\Big(\\frac{2n}{2n-1} \\cdot \\frac{2n}{2n+1}\\Big)$$\n",
    "\n",
    "Lag en løkke som regner ut produktet over. Erstatt $\\infty$ med $10^5$."
   ]
  },
  {
   "cell_type": "code",
   "execution_count": 10,
   "metadata": {
    "pycharm": {}
   },
   "outputs": [],
   "source": [
    "# koden din her"
   ]
  },
  {
   "cell_type": "markdown",
   "metadata": {
    "pycharm": {}
   },
   "source": [
    "### Utskrift til tabeller"
   ]
  },
  {
   "cell_type": "markdown",
   "metadata": {
    "pycharm": {}
   },
   "source": [
    "Tabell som skriver ut en liste tall og tallets fakultet. Vi bruker her fakultet-funksjonen vi lagde i eksempel 5."
   ]
  },
  {
   "cell_type": "code",
   "execution_count": 11,
   "metadata": {
    "pycharm": {}
   },
   "outputs": [
    {
     "name": "stdout",
     "output_type": "stream",
     "text": [
      "—————————————————————————\n",
      "|   n    | fakultet (n!)|\n",
      "—————————————————————————\n",
      "|   1    |            1 |\n",
      "|   2    |            2 |\n",
      "|   3    |            6 |\n",
      "|   4    |           24 |\n",
      "|   5    |          120 |\n",
      "|   6    |          720 |\n",
      "|   7    |         5040 |\n",
      "|   8    |        40320 |\n",
      "|   9    |       362880 |\n",
      "|  10    |      3628800 |\n",
      "—————————————————————————\n"
     ]
    }
   ],
   "source": [
    "N = 10\n",
    "linje = '—————————————————————————'\n",
    "print(linje)\n",
    "print(f'|{\"n\":^7} | fakultet (n!)|')\n",
    "print(linje)\n",
    "produkt = 1\n",
    "for n in range(1, N+1):\n",
    "    produkt *= n\n",
    "    print(f'|{n:^7} | {produkt:12} |')\n",
    "print(linje)  "
   ]
  },
  {
   "cell_type": "markdown",
   "metadata": {
    "pycharm": {}
   },
   "source": [
    "Tabell grader og radianer"
   ]
  },
  {
   "cell_type": "code",
   "execution_count": 3,
   "metadata": {
    "pycharm": {
     "is_executing": false
    }
   },
   "outputs": [
    {
     "name": "stdout",
     "output_type": "stream",
     "text": [
      "———————————————————————\n",
      "| grader  | radianer  |\n",
      "———————————————————————\n",
      "|    0    |   0.00    |\n",
      "|   10    |   0.17    |\n",
      "|   20    |   0.35    |\n",
      "|   30    |   0.52    |\n",
      "|   40    |   0.70    |\n",
      "|   50    |   0.87    |\n",
      "|   60    |   1.05    |\n",
      "|   70    |   1.22    |\n",
      "|   80    |   1.40    |\n",
      "|   90    |   1.57    |\n",
      "|   100   |   1.75    |\n",
      "|   110   |   1.92    |\n",
      "|   120   |   2.09    |\n",
      "|   130   |   2.27    |\n",
      "|   140   |   2.44    |\n",
      "|   150   |   2.62    |\n",
      "|   160   |   2.79    |\n",
      "|   170   |   2.97    |\n",
      "|   180   |   3.14    |\n",
      "———————————————————————\n"
     ]
    }
   ],
   "source": [
    "import numpy as np\n",
    "linje = '———————————————————————'\n",
    "print(linje)\n",
    "print(f'| {\"grader\":^7} | {\"radianer\":^9} |')\n",
    "print(linje)\n",
    "for i in range(0, 181, 10):\n",
    "    radianer = np.deg2rad(i)\n",
    "    print(f'| {i:^7.0f} | {radianer:^9.2f} |')\n",
    "\n",
    "print(linje)"
   ]
  },
  {
   "cell_type": "markdown",
   "metadata": {
    "pycharm": {}
   },
   "source": [
    "## Nestede løkker"
   ]
  },
  {
   "cell_type": "code",
   "execution_count": 21,
   "metadata": {
    "pycharm": {}
   },
   "outputs": [
    {
     "name": "stdout",
     "output_type": "stream",
     "text": [
      "ytre løkke\n",
      "  indre løkke\n",
      "  indre løkke\n",
      "  indre løkke\n",
      "ytre løkke\n",
      "  indre løkke\n",
      "  indre løkke\n",
      "  indre løkke\n",
      "ytre løkke\n",
      "  indre løkke\n",
      "  indre løkke\n",
      "  indre løkke\n",
      "ytre løkke\n",
      "  indre løkke\n",
      "  indre løkke\n",
      "  indre løkke\n",
      "ytre løkke\n",
      "  indre løkke\n",
      "  indre løkke\n",
      "  indre løkke\n"
     ]
    }
   ],
   "source": [
    "for i in range(5):\n",
    "    print('ytre løkke')\n",
    "    for j in range(3):\n",
    "        print('  indre løkke')"
   ]
  },
  {
   "cell_type": "markdown",
   "metadata": {
    "pycharm": {}
   },
   "source": [
    "## While-løkker\n",
    "\n",
    "\n",
    "En [while-løkke](https://en.wikipedia.org/wiki/While_loop#Python) har veldig lik funksjonalitet som for-løkker. Forskjellen er at i en while-løkke så må tellevariabelen deklarereres på forhånd, og den må økes eller minkes manuelt inne i koden. Alt dette gjøres i deklarasjonen til en for-løkke.\n"
   ]
  },
  {
   "cell_type": "code",
   "execution_count": 4,
   "metadata": {
    "pycharm": {}
   },
   "outputs": [
    {
     "name": "stdout",
     "output_type": "stream",
     "text": [
      "Telleren har nå verdien: 0\n",
      "Telleren har nå verdien: 1\n",
      "Telleren har nå verdien: 2\n",
      "Telleren har nå verdien: 3\n",
      "Telleren har nå verdien: 4\n",
      "Telleren har nå verdien: 5\n",
      "Telleren har nå verdien: 6\n",
      "Telleren har nå verdien: 7\n",
      "Telleren har nå verdien: 8\n",
      "while-løkken er nå avsluttet\n"
     ]
    }
   ],
   "source": [
    "teller = 0\n",
    "while teller < 9:\n",
    "   print(\"Telleren har nå verdien:\", teller)\n",
    "   teller = teller + 1\n",
    "print(\"while-løkken er nå avsluttet\")"
   ]
  },
  {
   "cell_type": "code",
   "execution_count": null,
   "metadata": {
    "collapsed": true,
    "jupyter": {
     "outputs_hidden": true
    },
    "pycharm": {}
   },
   "outputs": [],
   "source": []
  }
 ],
 "metadata": {
  "kernelspec": {
   "display_name": "Python 3",
   "language": "python",
   "name": "python3"
  },
  "language_info": {
   "codemirror_mode": {
    "name": "ipython",
    "version": 3
   },
   "file_extension": ".py",
   "mimetype": "text/x-python",
   "name": "python",
   "nbconvert_exporter": "python",
   "pygments_lexer": "ipython3",
   "version": "3.7.3"
  }
 },
 "nbformat": 4,
 "nbformat_minor": 4
}
