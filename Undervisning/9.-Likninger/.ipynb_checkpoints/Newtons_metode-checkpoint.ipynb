{
 "cells": [
  {
   "cell_type": "markdown",
   "metadata": {},
   "source": [
    "# Newtons metode"
   ]
  },
  {
   "cell_type": "markdown",
   "metadata": {},
   "source": [
    "<img src='newtons.png' width='800px'>\n",
    "\n",
    "<a href='https://www.geogebra.org/m/n6KXp4hE'>GeoGebra</a>\n",
    "\n",
    "Newtons metode, også kjent som Newton-Raphson-metoden, er en metode for å finne nullpunkter til funksjoner. Man finner ikke en eksakt løsning, men en tilnærmelsesverdi med så høy nøyaktighet man ønsker. Metoden går ut på at man starter fra et punkt x_0 i nærheten av et nullpunkt og bruker dette punktet som tilnærmelsesverdi. Så finner man grafens tangent (den grå tangenten på figuren over) i punktet $(x_0, f(x_0)$, og bruker tangentens skjæringspunkt med x-aksen som ny tilnærmelsesverdi x_1. Så finner man grafens tangent (den røde tangenten på figuren over) i punktet $(x_1, f(x_1)$, og bruker tangentens skjæringspunkt med x-aksen som ny tilnærmelsesverdi $x_2$. Prosessen gjentas til man har fått ønsket nøyaktighet. Regneprosessen resulterer i følgende rekursjonsforme\n",
    "\n",
    "\n",
    "For å komme frem til Newtons metode tar vi utganspunkt i topunktsformelen $y_1-y_0=a(x_1-x_0)$. For å gjøre den mere generell kan vi skrive den slik $y_{n+1}-y_n=a(x_{n+1}-x_n)$ og videre $f(x_{n+1})-f(x_n)=a(x_{n+1}-x_n)$.\n",
    "\n",
    "Siden vi ønsker å finne ut når tangenten skjærer x-aksen (nullpunktet til tangenten) så setter vi $f(x_{n+1})=0$. \n",
    "\n",
    "Med $a=f^\\prime(x_n)$ så løser vi med hensyn på $x_{n+1}$\n",
    "\n",
    "\\begin{align}\n",
    "-f(x_n) & = f(x_{n+1})(x_{n+1}-x_n)\\\\\n",
    "-\\frac{f(x_n)}{f(x_{n+1})} & = x_{n+1}-x_n\\\\\n",
    "x_{n+1} & = x_n-\\frac{f(x_n)}{f^\\prime(x_n)}\\\\\n",
    "\\end{align}\n",
    "\n",
    "\n",
    "\n"
   ]
  },
  {
   "cell_type": "markdown",
   "metadata": {},
   "source": [
    "### Den deriverte:"
   ]
  },
  {
   "cell_type": "code",
   "execution_count": 3,
   "metadata": {},
   "outputs": [],
   "source": [
    "def derivert(f, a, h=10**-8):\n",
    "    return (f(a + h) - f(a))/h"
   ]
  },
  {
   "cell_type": "markdown",
   "metadata": {},
   "source": [
    "### Newtons metode"
   ]
  },
  {
   "cell_type": "code",
   "execution_count": 4,
   "metadata": {},
   "outputs": [],
   "source": [
    "def newtons_metode(f, x_0, N=1000):\n",
    "    for n in range(N):\n",
    "        x_0 = x_0 - f(x_0)/derivert(f, x_0)\n",
    "    return x_0"
   ]
  },
  {
   "cell_type": "code",
   "execution_count": 5,
   "metadata": {},
   "outputs": [
    {
     "name": "stdout",
     "output_type": "stream",
     "text": [
      "Nullpunkt: x = -2.00\n"
     ]
    }
   ],
   "source": [
    "def f(x):\n",
    "    return x**2-4\n",
    "\n",
    "print(f'Nullpunkt: x = {newtons_metode(f, -1):.2f}')"
   ]
  },
  {
   "cell_type": "markdown",
   "metadata": {},
   "source": [
    "Denne funksjonen har to nullpunkt"
   ]
  },
  {
   "cell_type": "code",
   "execution_count": 36,
   "metadata": {},
   "outputs": [
    {
     "name": "stdout",
     "output_type": "stream",
     "text": [
      "Nullpunkt: x = -2.00\n",
      "Nullpunkt: x = 2.00\n"
     ]
    }
   ],
   "source": [
    "x_0 = [-0.1,1] \n",
    "for i in range(len(x_0)):\n",
    "    print(f'Nullpunkt: x = {newtons_metode(f, x_0[i]):.2f}')"
   ]
  },
  {
   "cell_type": "code",
   "execution_count": null,
   "metadata": {},
   "outputs": [],
   "source": []
  }
 ],
 "metadata": {
  "kernelspec": {
   "display_name": "Python 3",
   "language": "python",
   "name": "python3"
  },
  "language_info": {
   "codemirror_mode": {
    "name": "ipython",
    "version": 3
   },
   "file_extension": ".py",
   "mimetype": "text/x-python",
   "name": "python",
   "nbconvert_exporter": "python",
   "pygments_lexer": "ipython3",
   "version": "3.7.2"
  }
 },
 "nbformat": 4,
 "nbformat_minor": 2
}
