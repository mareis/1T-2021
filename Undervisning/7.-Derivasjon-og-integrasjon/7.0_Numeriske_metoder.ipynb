{
 "cells": [
  {
   "cell_type": "markdown",
   "metadata": {},
   "source": [
    "# 7.0 Numeriske metoder\n",
    "\n",
    "Numeriske metoder er en samlebetegnelse for metoder som finner tilnærmede løsninger til matematiske problemer. Hovedområdene vi skal gå inn på er derivasjon, integrasjon og likningsløsing (inkludert differensiallikninger). Dette er metoder hvor idéen er enkel (f.eks. arealet under en graf) men de analytiske metodene kan være vanskelige (substitusjon, delbrøksoppspalting osv.).\n",
    "\n",
    "Enkle idéer kan ofte oversettes til enkle algoritmer. Kombinert med regnekraften i moderne datamaskiner kan disse brukes til å finne tilnærmede svar på problemet, ofte med så stor nøyaktighet som vi selv ønsker. Numerisk matematikk er fagfeltet som omhandler utviklingen og karakteriseringen av slike algoritmer. Eksempelvis er det viktig å vite om visse krav må oppfylles for at en algoritme skal fungere, eller hvor raskt den konvergerer.\n",
    "\n",
    "Siden algoritmene er ukompliserte og krever få forkunnskaper, håper vi at en utledning fra grunnprinnsipper kan føre til bedre dybdelæring av de matematiske konseptene. Slik kommer man også vekk fra «black box»-verktøy som NLøs i GeoGebra.\n",
    "\n",
    "De numeriske metodene har også fordelen av å være mer generelle. En algoritme for numerisk integrasjon bryr seg ikke om hva slags funksjon som skal integreres så lenge vi kan regne ut funksjonsverdier, i motsetning til de analytiske teknikkene. Følgelig kan de numeriske teknikkene også anvendes på vanskeligere, gjerne mer virkelighetsnære, problemer, f.eks. bevegelseslikninger med luftmotstand.\n",
    "\n",
    "---"
   ]
  },
  {
   "cell_type": "markdown",
   "metadata": {},
   "source": [
    "<img src='https://www.101computing.net/wp/wp-content/uploads/estimating-pi-monte-carlo-method.png' style='float:right'>\n",
    "                                                                                                                     \n",
    "## Estimere $\\pi$\n",
    "\n",
    "$$A_s=\\pi r^2$$\n",
    "\n",
    "$$A_k=2r\\cdot 2r=4r^2$$\n",
    "$$r^2=\\frac{A_k}{4}$$\n",
    "\n",
    "$$A_s=\\pi \\frac{A_k}{4} $$\n",
    "$$\\pi = 4\\frac{A_s}{A_k}  $$"
   ]
  },
  {
   "cell_type": "code",
   "execution_count": 48,
   "metadata": {},
   "outputs": [
    {
     "data": {
      "image/png": "[encoded data removed]",
      "text/plain": [
       "<Figure size 576x576 with 1 Axes>"
      ]
     },
     "metadata": {
      "needs_background": "light"
     },
     "output_type": "display_data"
    }
   ],
   "source": [
    "import numpy as np\n",
    "import matplotlib.pyplot as plt\n",
    "\n",
    "N = 1000000\n",
    "r = 1\n",
    "sx = []\n",
    "sy = []\n",
    "antall_s = 0\n",
    "\n",
    "\n",
    "for i in range(N):\n",
    "    x =  np.random.uniform(-1, 1)\n",
    "    y =  np.random.uniform(-1, 1)\n",
    "    \n",
    "    if np.sqrt(x**2 + y**2) < 1:\n",
    "        sx.append(x)\n",
    "        sy.append(y)\n",
    "        antall_s += 1\n",
    "         \n",
    "plt.rcParams['figure.figsize'] = (8, 8)\n",
    "plt.plot(sx, sy, '.')\n",
    "plt.show()"
   ]
  },
  {
   "cell_type": "code",
   "execution_count": 49,
   "metadata": {},
   "outputs": [
    {
     "data": {
      "text/plain": [
       "3.14316"
      ]
     },
     "execution_count": 49,
     "metadata": {},
     "output_type": "execute_result"
    }
   ],
   "source": [
    "4*antall_s/N"
   ]
  },
  {
   "cell_type": "code",
   "execution_count": 37,
   "metadata": {},
   "outputs": [
    {
     "data": {
      "text/plain": [
       "3.141592653589793"
      ]
     },
     "execution_count": 37,
     "metadata": {},
     "output_type": "execute_result"
    }
   ],
   "source": [
    "np.pi"
   ]
  },
  {
   "cell_type": "code",
   "execution_count": null,
   "metadata": {},
   "outputs": [],
   "source": []
  }
 ],
 "metadata": {
  "kernelspec": {
   "display_name": "Python 3",
   "language": "python",
   "name": "python3"
  },
  "language_info": {
   "codemirror_mode": {
    "name": "ipython",
    "version": 3
   },
   "file_extension": ".py",
   "mimetype": "text/x-python",
   "name": "python",
   "nbconvert_exporter": "python",
   "pygments_lexer": "ipython3",
   "version": "3.7.2"
  }
 },
 "nbformat": 4,
 "nbformat_minor": 2
}
