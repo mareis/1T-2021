{
 "cells": [
  {
   "cell_type": "markdown",
   "metadata": {},
   "source": [
    "# 7.2 Integrasjon "
   ]
  },
  {
   "cell_type": "code",
   "execution_count": 3,
   "metadata": {},
   "outputs": [],
   "source": [
    "import numpy as np"
   ]
  },
  {
   "cell_type": "markdown",
   "metadata": {},
   "source": [
    "## Rektangelmetoden med løkke"
   ]
  },
  {
   "cell_type": "code",
   "execution_count": 4,
   "metadata": {},
   "outputs": [],
   "source": [
    "def rektangelmetoden(f, a, b, n):\n",
    "    total = 0\n",
    "    h = (b - a)/n\n",
    "    for k in range(n):\n",
    "        total = total + f(a + (k*h))\n",
    "    \n",
    "    return h * total"
   ]
  },
  {
   "cell_type": "markdown",
   "metadata": {},
   "source": [
    "## Rektangelmetoden med Numpy"
   ]
  },
  {
   "cell_type": "code",
   "execution_count": 26,
   "metadata": {},
   "outputs": [],
   "source": [
    "def rektangelmetoden_np(f, a, b, n):\n",
    "    h = (b - a)/n\n",
    "    k = np.arange(a, b, h)\n",
    "    return h * np.sum(f(k))"
   ]
  },
  {
   "cell_type": "markdown",
   "metadata": {},
   "source": [
    "### Eksempel 1"
   ]
  },
  {
   "cell_type": "code",
   "execution_count": 6,
   "metadata": {},
   "outputs": [
    {
     "name": "stdout",
     "output_type": "stream",
     "text": [
      "1.998\n",
      "1.998\n"
     ]
    }
   ],
   "source": [
    "def g(x):\n",
    "    return x\n",
    "\n",
    "print(rektangelmetoden(g, 0, 2, 1000))\n",
    "print(rektangelmetoden_np(g, 0, 2, 1000))"
   ]
  },
  {
   "cell_type": "markdown",
   "metadata": {},
   "source": [
    "### Eksempel 2"
   ]
  },
  {
   "cell_type": "code",
   "execution_count": 24,
   "metadata": {},
   "outputs": [
    {
     "name": "stdout",
     "output_type": "stream",
     "text": [
      "41.66604166875003\n",
      "41.66604166875001\n"
     ]
    }
   ],
   "source": [
    "def h(x):\n",
    "    return x**2\n",
    "\n",
    "print(rektangelmetoden(h, 0, 5, 100000))\n",
    "print(rektangelmetoden_np(h, 0, 5, 100000))"
   ]
  },
  {
   "cell_type": "markdown",
   "metadata": {},
   "source": [
    "## Trapesmetoden med Numpy"
   ]
  },
  {
   "cell_type": "code",
   "execution_count": 31,
   "metadata": {},
   "outputs": [],
   "source": [
    "def trapesmetoden_np(f, a, b, n):\n",
    "    h = (b - a)/n\n",
    "    k = np.arange(a + h, b, h)\n",
    "    return h/2*(f(a)+f(b) + 2*np.sum(f(k)))"
   ]
  },
  {
   "cell_type": "code",
   "execution_count": 32,
   "metadata": {},
   "outputs": [
    {
     "name": "stdout",
     "output_type": "stream",
     "text": [
      "41.666666875000004\n"
     ]
    }
   ],
   "source": [
    "print(trapesmetoden_np(h, 0, 5, 10000))"
   ]
  },
  {
   "cell_type": "code",
   "execution_count": null,
   "metadata": {},
   "outputs": [],
   "source": []
  }
 ],
 "metadata": {
  "kernelspec": {
   "display_name": "Python 3",
   "language": "python",
   "name": "python3"
  },
  "language_info": {
   "codemirror_mode": {
    "name": "ipython",
    "version": 3
   },
   "file_extension": ".py",
   "mimetype": "text/x-python",
   "name": "python",
   "nbconvert_exporter": "python",
   "pygments_lexer": "ipython3",
   "version": "3.7.2"
  }
 },
 "nbformat": 4,
 "nbformat_minor": 2
}
