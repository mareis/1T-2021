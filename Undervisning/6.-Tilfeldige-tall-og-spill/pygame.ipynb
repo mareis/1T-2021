{
 "cells": [
  {
   "cell_type": "markdown",
   "metadata": {},
   "source": [
    "# PyGame"
   ]
  },
  {
   "cell_type": "markdown",
   "metadata": {},
   "source": [
    "https://opensource.com/article/17/10/python-101\n",
    "\n",
    "https://opensource.com/article/17/12/game-framework-python\n",
    "\n",
    "https://opensource.com/article/17/12/game-python-add-a-player\n",
    "\n",
    "https://opensource.com/article/17/12/game-python-moving-player\n",
    "\n",
    "https://opensource.com/article/18/5/pygame-enemy\n",
    "\n",
    "https://www.amazon.com/gp/product/1593278578/ref=as_li_qf_asin_il_tl?ie=UTF8&tag=mickensblo-20&creative=9325&linkCode=as2&creativeASIN=1593278578&linkId=5a971083253102027377d369ca570698"
   ]
  },
  {
   "cell_type": "code",
   "execution_count": null,
   "metadata": {},
   "outputs": [],
   "source": []
  }
 ],
 "metadata": {
  "kernelspec": {
   "display_name": "Python 3",
   "language": "python",
   "name": "python3"
  },
  "language_info": {
   "codemirror_mode": {
    "name": "ipython",
    "version": 3
   },
   "file_extension": ".py",
   "mimetype": "text/x-python",
   "name": "python",
   "nbconvert_exporter": "python",
   "pygments_lexer": "ipython3",
   "version": "3.7.3"
  }
 },
 "nbformat": 4,
 "nbformat_minor": 2
}
