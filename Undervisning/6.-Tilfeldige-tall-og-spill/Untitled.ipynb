{
 "cells": [
  {
   "cell_type": "code",
   "execution_count": null,
   "metadata": {},
   "outputs": [
    {
     "name": "stdout",
     "output_type": "stream",
     "text": [
      "pygame 1.9.4\n",
      "Hello from the pygame community. https://www.pygame.org/contribute.html\n"
     ]
    }
   ],
   "source": [
    "import pygame"
   ]
  },
  {
   "cell_type": "code",
   "execution_count": 7,
   "metadata": {},
   "outputs": [
    {
     "data": {
      "text/plain": [
       "(6, 0)"
      ]
     },
     "execution_count": 7,
     "metadata": {},
     "output_type": "execute_result"
    }
   ],
   "source": [
    "pygame.init()"
   ]
  },
  {
   "cell_type": "code",
   "execution_count": 8,
   "metadata": {},
   "outputs": [],
   "source": [
    "# Farge-definisjoner, RGB\n",
    "BLACK = (0, 0, 0)\n",
    "WHITE = (255, 255, 255)\n",
    "LIGHT_GRAY = (211,211,211)\n",
    "SEA_BLUE = (0,105,148)"
   ]
  },
  {
   "cell_type": "code",
   "execution_count": 9,
   "metadata": {},
   "outputs": [],
   "source": [
    "# Dimensjonene til programvinduet\n",
    "SIZE = WIDTH, HEIGHT = 640, 480\n",
    "screen = pygame.display.set_mode(SIZE)\n",
    "CENTER_HORIZ = WIDTH // 2\n",
    "CENTER_VERT = HEIGHT // 2"
   ]
  },
  {
   "cell_type": "code",
   "execution_count": 10,
   "metadata": {},
   "outputs": [],
   "source": [
    "# Hvor mange bilder i sekundet (FPS) skal vi tegne?\n",
    "FPS = 10\n",
    "timer = pygame.time.Clock()\n",
    "timer_txt = pygame.font.SysFont('Consolas', 30)"
   ]
  },
  {
   "cell_type": "code",
   "execution_count": 11,
   "metadata": {},
   "outputs": [],
   "source": [
    "tank_params = {\n",
    "    \"left\": CENTER_HORIZ - 50, # Trekker fra halvparten av bredden\n",
    "    \"top\": CENTER_VERT - 50,   # Trekker fra halvparten av høyden\n",
    "    \"width\": 100,              # Tankens høyde\n",
    "    \"height\": 100,             # Tankens bredde\n",
    "    \"level\": 10,               # Nivået vi starter med\n",
    "    \"fill_color\": SEA_BLUE,    # Farge på innholdet i tanken\n",
    "    \"outline_color\": WHITE,    # Farge på omrisset av tanken\n",
    "    \"border_width\": 3          # Bredde på omrisset av tanken\n",
    "}"
   ]
  },
  {
   "cell_type": "code",
   "execution_count": 12,
   "metadata": {},
   "outputs": [],
   "source": [
    "# Endring av nivå mellom hvert bilde som vises (FPS)\n",
    "level_change = 2"
   ]
  },
  {
   "cell_type": "code",
   "execution_count": 13,
   "metadata": {},
   "outputs": [
    {
     "ename": "KeyboardInterrupt",
     "evalue": "",
     "output_type": "error",
     "traceback": [
      "\u001b[0;31m---------------------------------------------------------------------------\u001b[0m",
      "\u001b[0;31mKeyboardInterrupt\u001b[0m                         Traceback (most recent call last)",
      "\u001b[0;32m<ipython-input-13-60cf24798a37>\u001b[0m in \u001b[0;36m<module>\u001b[0;34m\u001b[0m\n\u001b[1;32m     40\u001b[0m     \u001b[0mscreen\u001b[0m\u001b[0;34m.\u001b[0m\u001b[0mblit\u001b[0m\u001b[0;34m(\u001b[0m\u001b[0mtimer_txt\u001b[0m\u001b[0;34m.\u001b[0m\u001b[0mrender\u001b[0m\u001b[0;34m(\u001b[0m\u001b[0mtimer_string\u001b[0m\u001b[0;34m,\u001b[0m \u001b[0;32mTrue\u001b[0m\u001b[0;34m,\u001b[0m \u001b[0mLIGHT_GRAY\u001b[0m\u001b[0;34m)\u001b[0m\u001b[0;34m,\u001b[0m \u001b[0;34m(\u001b[0m\u001b[0mCENTER_HORIZ\u001b[0m \u001b[0;34m//\u001b[0m \u001b[0;36m2\u001b[0m\u001b[0;34m,\u001b[0m \u001b[0;36m10\u001b[0m\u001b[0;34m)\u001b[0m\u001b[0;34m)\u001b[0m\u001b[0;34m\u001b[0m\u001b[0m\n\u001b[1;32m     41\u001b[0m     \u001b[0mpygame\u001b[0m\u001b[0;34m.\u001b[0m\u001b[0mdisplay\u001b[0m\u001b[0;34m.\u001b[0m\u001b[0mflip\u001b[0m\u001b[0;34m(\u001b[0m\u001b[0;34m)\u001b[0m\u001b[0;34m\u001b[0m\u001b[0m\n\u001b[0;32m---> 42\u001b[0;31m     \u001b[0mtimer\u001b[0m\u001b[0;34m.\u001b[0m\u001b[0mtick\u001b[0m\u001b[0;34m(\u001b[0m\u001b[0mFPS\u001b[0m\u001b[0;34m)\u001b[0m\u001b[0;34m\u001b[0m\u001b[0m\n\u001b[0m",
      "\u001b[0;31mKeyboardInterrupt\u001b[0m: "
     ]
    }
   ],
   "source": [
    "while True:\n",
    "    for event in pygame.event.get():\n",
    "        if event.type == pygame.QUIT: sys.exit()\n",
    "\n",
    "    # Bakgrunnsfargen\n",
    "    screen.fill(BLACK)\n",
    "\n",
    "    # Tegner inn tanknivået\n",
    "    pygame.draw.rect(screen, SEA_BLUE, \n",
    "                     pygame.Rect(tank_params[\"left\"], \n",
    "                                 tank_params[\"top\"] + (tank_params[\"height\"] - tank_params[\"level\"]), \n",
    "                                 tank_params[\"width\"], \n",
    "                                 tank_params[\"level\"]))\n",
    "    # Tegner omrisset av tanken\n",
    "    pygame.draw.rect(screen, WHITE, \n",
    "                     pygame.Rect(tank_params[\"left\"], \n",
    "                                 tank_params[\"top\"], \n",
    "                                 tank_params[\"width\"], \n",
    "                                 tank_params[\"height\"]), \n",
    "                     tank_params[\"border_width\"])\n",
    "\n",
    "    # Sjekk om vi har nådd topp eller bunn, og endre fortegn på level_change\n",
    "    if tank_params[\"level\"] > tank_params[\"height\"] or tank_params[\"level\"] < 0:\n",
    "        level_change *= -1\n",
    "\n",
    "    # Endrer nivået i tanken\n",
    "    tank_params[\"level\"] += level_change\n",
    "\n",
    "    # Tegner inn \"vannstrålen\" inn i eller ut av tanken\n",
    "    if level_change > 0: # tanken fylles\n",
    "        pygame.draw.line(screen, SEA_BLUE, \n",
    "                    (CENTER_HORIZ,0), \n",
    "                    (CENTER_HORIZ, tank_params[\"top\"] + tank_params[\"height\"] - tank_params[\"border_width\"]), 4)\n",
    "    else: # tanken tømmes\n",
    "        pygame.draw.line(screen, SEA_BLUE, \n",
    "                    (CENTER_HORIZ, tank_params[\"top\"] + tank_params[\"height\"] - tank_params[\"border_width\"]), \n",
    "                    (CENTER_HORIZ, HEIGHT), 4)\n",
    "\n",
    "    timer_string = \"Medgått tid: {} sekunder\".format(round(pygame.time.get_ticks() / 1000, 1))\n",
    "    screen.blit(timer_txt.render(timer_string, True, LIGHT_GRAY), (CENTER_HORIZ // 2, 10))\n",
    "    pygame.display.flip()\n",
    "    timer.tick(FPS)"
   ]
  },
  {
   "cell_type": "code",
   "execution_count": null,
   "metadata": {},
   "outputs": [],
   "source": []
  }
 ],
 "metadata": {
  "kernelspec": {
   "display_name": "Python 3",
   "language": "python",
   "name": "python3"
  },
  "language_info": {
   "codemirror_mode": {
    "name": "ipython",
    "version": 3
   },
   "file_extension": ".py",
   "mimetype": "text/x-python",
   "name": "python",
   "nbconvert_exporter": "python",
   "pygments_lexer": "ipython3",
   "version": "3.7.3"
  }
 },
 "nbformat": 4,
 "nbformat_minor": 2
}
